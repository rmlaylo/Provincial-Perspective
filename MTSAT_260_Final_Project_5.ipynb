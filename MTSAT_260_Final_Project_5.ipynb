{
 "cells": [
  {
   "cell_type": "code",
   "execution_count": 125,
   "id": "eea95105-a007-4614-9631-aa2864706a45",
   "metadata": {
    "execution": {
     "iopub.execute_input": "2023-12-06T15:45:30.461725Z",
     "iopub.status.busy": "2023-12-06T15:45:30.460781Z",
     "iopub.status.idle": "2023-12-06T15:45:30.474200Z",
     "shell.execute_reply": "2023-12-06T15:45:30.472373Z",
     "shell.execute_reply.started": "2023-12-06T15:45:30.461658Z"
    },
    "tags": []
   },
   "outputs": [
    {
     "data": {
      "text/html": [
       "<script src=\"require.js\"></script>\n"
      ],
      "text/plain": [
       "<IPython.core.display.HTML object>"
      ]
     },
     "metadata": {},
     "output_type": "display_data"
    }
   ],
   "source": [
    "%%HTML\n",
    "<script src=\"require.js\"></script>"
   ]
  },
  {
   "cell_type": "code",
   "execution_count": 126,
   "id": "d9bb4e1e-719a-465d-bb01-f276ef763477",
   "metadata": {
    "execution": {
     "iopub.execute_input": "2023-12-06T15:45:31.309292Z",
     "iopub.status.busy": "2023-12-06T15:45:31.308343Z",
     "iopub.status.idle": "2023-12-06T15:45:31.322819Z",
     "shell.execute_reply": "2023-12-06T15:45:31.320938Z",
     "shell.execute_reply.started": "2023-12-06T15:45:31.309228Z"
    },
    "tags": []
   },
   "outputs": [
    {
     "data": {
      "text/html": [
       "\n",
       "    <script\n",
       "        src='https://cdnjs.cloudflare.com/ajax/libs/jquery/2.0.3/jquery.min.js'>\n",
       "    </script>\n",
       "    <script>\n",
       "        code_show=true;\n",
       "        function code_toggle() {\n",
       "        if (code_show){\n",
       "        $('div.jp-CodeCell > div.jp-Cell-inputWrapper').hide();\n",
       "        } else {\n",
       "        $('div.jp-CodeCell > div.jp-Cell-inputWrapper').show();\n",
       "        }\n",
       "        code_show = !code_show\n",
       "        }\n",
       "        $( document ).ready(code_toggle);\n",
       "    </script>\n",
       "    <form action='javascript:code_toggle()'>\n",
       "        <input type=\"submit\" value='Click here to toggle on/off the raw code.'>\n",
       "    </form>\n",
       "    "
      ],
      "text/plain": [
       "<IPython.core.display.HTML object>"
      ]
     },
     "execution_count": 126,
     "metadata": {},
     "output_type": "execute_result"
    }
   ],
   "source": [
    "from IPython.display import display, HTML\n",
    "HTML(\n",
    "    \"\"\"\n",
    "    <script\n",
    "        src='https://cdnjs.cloudflare.com/ajax/libs/jquery/2.0.3/jquery.min.js'>\n",
    "    </script>\n",
    "    <script>\n",
    "        code_show=true;\n",
    "        function code_toggle() {\n",
    "        if (code_show){\n",
    "        $('div.jp-CodeCell > div.jp-Cell-inputWrapper').hide();\n",
    "        } else {\n",
    "        $('div.jp-CodeCell > div.jp-Cell-inputWrapper').show();\n",
    "        }\n",
    "        code_show = !code_show\n",
    "        }\n",
    "        $( document ).ready(code_toggle);\n",
    "    </script>\n",
    "    <form action='javascript:code_toggle()'>\n",
    "        <input type=\"submit\" value='Click here to toggle on/off the raw code.'>\n",
    "    </form>\n",
    "    \"\"\"\n",
    ")"
   ]
  },
  {
   "cell_type": "code",
   "execution_count": 127,
   "id": "90b37438-dbc7-450d-a0ce-df6b539f0a12",
   "metadata": {
    "execution": {
     "iopub.execute_input": "2023-12-06T15:45:34.790939Z",
     "iopub.status.busy": "2023-12-06T15:45:34.790195Z",
     "iopub.status.idle": "2023-12-06T15:45:34.805587Z",
     "shell.execute_reply": "2023-12-06T15:45:34.803249Z",
     "shell.execute_reply.started": "2023-12-06T15:45:34.790876Z"
    },
    "tags": []
   },
   "outputs": [],
   "source": [
    "# Import libraries\n",
    "import numpy as np\n",
    "import pandas as pd\n",
    "\n",
    "import matplotlib.pyplot as plt\n",
    "import seaborn as sns\n",
    "\n",
    "import scipy.stats as stats\n",
    "from scipy.stats import f_oneway\n",
    "from statsmodels.stats.multicomp import pairwise_tukeyhsd\n",
    "import statsmodels.api as sm\n",
    "# import pingouin as pg\n",
    "\n",
    "from sklearn.model_selection import train_test_split\n",
    "from sklearn.feature_selection import RFE\n",
    "from sklearn.metrics import r2_score\n",
    "from sklearn.metrics import mean_squared_error\n",
    "from sklearn.svm import SVR\n",
    "from sklearn.linear_model import Lasso\n",
    "\n",
    "import warnings\n",
    "warnings.filterwarnings(\"ignore\", category=FutureWarning)"
   ]
  },
  {
   "cell_type": "markdown",
   "id": "9e311801-d5b6-4167-8cf6-a9346e484d78",
   "metadata": {},
   "source": [
    "<center><img src = 'title_page_ACS.png'></center>"
   ]
  },
  {
   "cell_type": "markdown",
   "id": "a8fc95ec-2a97-4ef6-bb6d-cdbf27f9941e",
   "metadata": {
    "execution": {
     "iopub.execute_input": "2023-12-06T15:49:07.217485Z",
     "iopub.status.busy": "2023-12-06T15:49:07.216758Z",
     "iopub.status.idle": "2023-12-06T15:49:07.228914Z",
     "shell.execute_reply": "2023-12-06T15:49:07.226280Z",
     "shell.execute_reply.started": "2023-12-06T15:49:07.217421Z"
    },
    "tags": []
   },
   "source": [
    "<div style='display: flex; justify-content: space-between; align-items: center; padding: 10px; width: 100%; background-color: #F5F5DC'>\n",
    "    <h1>ABSTRACT</h1>\n",
    "    <img src='png.png' style='height: 50px; width: auto; margin-left: auto; padding: 10px'>\n",
    "</div>"
   ]
  },
  {
   "cell_type": "markdown",
   "id": "d55afb93-a15d-4d62-87f8-61d69d4a4829",
   "metadata": {},
   "source": [
    "This study examines how Filipino families' finances shifted from 2018 to 2021 using data from the Family Income and Expenditure Survey. We identify significant income differences during this period, but no notable changes in savings and expenses. The focus narrows to two provinces with the highest and lowest income variations.\n",
    "\n",
    "Analyzing the link between income and factors like family size and expense types, we uncover distinctive economic landscapes in these provinces. Recommendations aim to improve the province with lower income differences, learning from the one with higher disparities. We extend our analysis to neighboring provinces within the region, suggesting broader strategies if similarities emerge.\n",
    "\n",
    "This study aims to guide practical policies that address the unique challenges faced by different communities, fostering fair economic growth across the Philippines at both local and regional levels."
   ]
  },
  {
   "cell_type": "markdown",
   "id": "49a3f79b-f108-470c-b584-7218203b417c",
   "metadata": {},
   "source": [
    "<div style='display: flex; justify-content: space-between; align-items: center; padding: 10px; width: 100%; background-color: #F5F5DC'>\n",
    "    <h1>METHODOLOGY AND PROBLEM STATEMENT</h1>\n",
    "    <img src='png.png' style='height: 50px; width: auto; margin-left: auto; padding: 10px'>\n",
    "</div>"
   ]
  },
  {
   "cell_type": "markdown",
   "id": "6237f3f4-e7cb-4526-9b6c-d5ad1782dc35",
   "metadata": {
    "execution": {
     "iopub.execute_input": "2023-12-05T15:45:23.161621Z",
     "iopub.status.busy": "2023-12-05T15:45:23.159991Z",
     "iopub.status.idle": "2023-12-05T15:45:23.178901Z",
     "shell.execute_reply": "2023-12-05T15:45:23.176707Z",
     "shell.execute_reply.started": "2023-12-05T15:45:23.161551Z"
    },
    "tags": []
   },
   "source": [
    "Understanding the dynamics of Filipino household finances is essential for informed policy interventions and equitable economic development. This study aims to address three key problem statements through a comprehensive methodology, as listed in <b>Table 1. Methology Overview</b> and <b>Table 2. Problem Statement and Hypothesis Test.</b>\n",
    "\n",
    "<center><b>Table 1. Methology Overview</b></center>\n",
    "\n",
    "| <center>Step</center> | <center>Process</center> | <center>Description</center> |\n",
    "|:--|:------------------------------|:-----------------------------------------------------------------------------------------------------------|\n",
    "| 1 | Data Preprocessing            | Load dataset and prepare for exploratory data analysis and hypothesis testing                              |\n",
    "| 2 | Exploratory Data Analysis     | Perform EDA to gain understanding on the data and its characteristics, and identify any trends             |\n",
    "| 3 | Hypothesis Testing            | Conduct hypothesis testing to address problem statements                                                   |\n",
    "| 4 | Results                       | Reject or fail to reject the null hypothesis given the hypothesis test results                             |\n",
    "| 5 | Conclusion and Recommendation | Summarize the insights from the generated results, and provide recommendations given the insights acquired |\n",
    "\n",
    "\n",
    "<br><center><b>Table 2. Problem Statement and Hypothesis Test</b></center>\n",
    "\n",
    "| <center>No</center> | <center>Problem Statement</center> | <center>Hypothesis Testing</center> |\n",
    "|:--------------------|:-----------------------------------|:-----------------------------|\n",
    "| 1 | Is there a significant difference in Filipino income, expense and savings between 2018 and 2021?                                                                                                       | Conduct Paired T-Test to check for significance    |\n",
    "| 2 | Is there a significant correlation between the income versus other features (e.g. family size, expense types, etc.) for provinces with the lowest and highest income difference between 2018 and 2021? | Conduct Linear Regression to check for correlation |\n",
    "| 3 | Is the income of province with the highest income difference between 2018 and 2021 similar with other provinces belonging to the same region?                                                          | Conduct ANOVA to check for similarity              |"
   ]
  },
  {
   "cell_type": "markdown",
   "id": "0b75ffb8-075f-46ea-9530-3f2e9c84f472",
   "metadata": {
    "execution": {
     "iopub.execute_input": "2023-12-06T15:48:42.358963Z",
     "iopub.status.busy": "2023-12-06T15:48:42.358232Z",
     "iopub.status.idle": "2023-12-06T15:48:42.369856Z",
     "shell.execute_reply": "2023-12-06T15:48:42.367607Z",
     "shell.execute_reply.started": "2023-12-06T15:48:42.358901Z"
    },
    "tags": []
   },
   "source": [
    "<div style='display: flex; justify-content: space-between; align-items: center; padding: 10px; width: 100%; background-color: #F5F5DC'>\n",
    "    <h1>MOTIVATION</h1>\n",
    "    <img src='png.png' style='height: 50px; width: auto; margin-left: auto; padding: 10px'>\n",
    "</div>"
   ]
  },
  {
   "cell_type": "markdown",
   "id": "7c79dfca-7763-4eca-a910-b39fedfb6d7c",
   "metadata": {},
   "source": [
    "Amid the unprecedented challenges brought about by the COVID-19 pandemic, understanding the intricate dynamics of Filipino households' financial landscapes becomes imperative for informed policymaking. The study seeks to unravel the nuanced shifts in income, expenses, and savings from 2018 to 2021, a period marked by substantial economic disruptions.\n",
    "\n",
    "The motivation stems from the recognition of significant income differences observed during this time frame, prompting a closer examination of the broader socioeconomic implications. By delving into the distinctive economic landscapes of provinces with both the highest and lowest income variations, the study aims to contribute actionable insights to address the unique challenges faced by different communities."
   ]
  },
  {
   "cell_type": "markdown",
   "id": "c2aa14eb-8e31-4272-9996-a73d478dcc07",
   "metadata": {},
   "source": [
    "<div style='display: flex; justify-content: space-between; align-items: center; padding: 10px; width: 100%; background-color: #F5F5DC'>\n",
    "    <h1>DATA OVERVIEW</h1>\n",
    "    <img src='png.png' style='height: 50px; width: auto; margin-left: auto; padding: 10px'>\n",
    "</div>"
   ]
  },
  {
   "cell_type": "markdown",
   "id": "f1a2ce5b-2e51-4476-87d7-e35dbc5b0d8b",
   "metadata": {
    "execution": {
     "iopub.execute_input": "2023-12-05T15:11:14.044043Z",
     "iopub.status.busy": "2023-12-05T15:11:14.043339Z",
     "iopub.status.idle": "2023-12-05T15:11:14.055792Z",
     "shell.execute_reply": "2023-12-05T15:11:14.052724Z",
     "shell.execute_reply.started": "2023-12-05T15:11:14.043982Z"
    },
    "tags": []
   },
   "source": [
    "<h3>Data Description</h3>\n",
    "\n",
    "The data was sourced from the Family Income and Expenditure Survey (FIES) conducted in the years 2018 and 2021. The FIES, a comprehensive survey administered every three years, encompasses over 150,000 households across the country, gathering in-depth information on their income sources and expenditure patterns."
   ]
  },
  {
   "cell_type": "markdown",
   "id": "2a7231be-8fa1-4f15-a651-56dd2e65bbed",
   "metadata": {
    "execution": {
     "iopub.execute_input": "2023-12-06T04:23:35.400893Z",
     "iopub.status.busy": "2023-12-06T04:23:35.400101Z",
     "iopub.status.idle": "2023-12-06T04:23:35.421141Z",
     "shell.execute_reply": "2023-12-06T04:23:35.419245Z",
     "shell.execute_reply.started": "2023-12-06T04:23:35.400821Z"
    },
    "tags": []
   },
   "source": [
    "Listed in <b>Table 3. Problem Statement #1 Relevant Columns, Table 4. Problem Statement #2 Relevant Columns</b> and <b>Table 5. Problem Statement #3 Relevant Columns</b> are the relevant columns to consider per problem statement.\n",
    "\n",
    "<br>\n",
    "<center><b> Table 3. Problem Statement #1 Relevant Columns</b></center>\n",
    "\n",
    "| Column | Description |\n",
    "|--------|-------------|\n",
    "| `W_PROV` | Province Code |\n",
    "| `TOINC` | Total Income |\n",
    "| `TOTEX` | Total Expenses |\n",
    "| `Savings` | Savings, calculated as Total Income (`TOINC`) minus Total Expenses (`TOTEX`) |    \n",
    "\n",
    "<br>\n",
    "<center><b> Table 4. Problem Statement #2 Relevant Columns</b></center>\n",
    "\n",
    "| Column | Description |\n",
    "|--------|-------------|\n",
    "| `FSIZE` | Family Size |\n",
    "| `LOSSES` | Financial Losses |\n",
    "| `BREAD` | Expenditure on Bread |\n",
    "| `MEAT` | Expenditure on Meat |\n",
    "| `FISH` | Expenditure on Fish |\n",
    "| `MILK` | Expenditure on Milk and Dairy |\n",
    "| `OIL` | Expenditure on Cooking Oil |\n",
    "| `FRUIT` | Expenditure on Fruits |\n",
    "| `VEG` | Expenditure on Vegetables |\n",
    "| `SUGAR` | Expenditure on Sugar |\n",
    "| `FOOD_NEC` | Expenditure on Necessary Food Items |\n",
    "| `FRUIT_VEG` | Expenditure on Fruits and Vegetables |\n",
    "| `COFFEE` | Expenditure on Coffee |\n",
    "| `TEA` | Expenditure on Tea |\n",
    "| `COCOA` | Expenditure on Cocoa |\n",
    "| `WATER` | Expenditure on Water |\n",
    "| `SOFTDRINKS` | Expenditure on Soft Drinks |\n",
    "| `OTHER_NON_ALCOHOL` | Expenditure on Other Non-Alcoholic Beverages |\n",
    "| `ALCOHOL` | Expenditure on Alcoholic Beverages |\n",
    "| `TOBACCO` | Expenditure on Tobacco |\n",
    "| `OTHER_VEG` | Expenditure on Other Vegetables |\n",
    "| `SERVICES_PRIMARY_GOODS` | Expenditure on Services Related to Primary Goods |\n",
    "| `ALCOHOL_PROCDUCTION_SERVICES` | Services Related to Alcohol Production |\n",
    "| `FOOD_HOME` | Expenditure on Food Consumed at Home |\n",
    "| `FOOD_OUTSIDE` | Expenditure on Eating Out |\n",
    "| `FOOD` | Total Food Expenditure |\n",
    "| `CLOTH` | Expenditure on Clothing |\n",
    "| `FURNISHING` | Expenditure on Home Furnishings |\n",
    "| `HEALTH` | Expenditure on Health |\n",
    "| `HOUSING_WATER` | Expenditure on Housing and Water Services |\n",
    "| `ACTRENT` | Actual Rent Paid for Housing |\n",
    "| `RENTVAL` | Rental Value of Occupied Dwelling Units |\n",
    "| `TRANSPORT` | Expenditure on Transport |\n",
    "| `COMMUNICATION` | Expenditure on Communication Services |\n",
    "| `RECREATION` | Expenditure on Recreation |\n",
    "| `EDUCATION` | Expenditure on Education |\n",
    "| `INSURANCE` | Expenditure on Insurance |\n",
    "| `MISCELLANEOUS` | Expenditure on Miscellaneous Goods and Services |\n",
    "| `DURABLE` | Expenditure on Durable Equipment |\n",
    "| `OCCASION` | Expenditure on Special Occasions |\n",
    "| `OTHER_EXPENDITURE` | Other Expenditures |\n",
    "| `OTHER_DISBURSEMENT` | Other Disbursements |\n",
    "| `FOOD_ACCOM_SRVC` | Expenditure on Food and Accommodation Services |\n",
    "| `NFOOD` | Non-Food Expenditure |\n",
    "| `TOTDIS` | Total Disbursements |\n",
    "| `OTHREC` | Other Receipts |\n",
    "| `URB` | Urban or Rural Indicator |\n",
    "| `RPROV` | Regional Province Code |\n",
    "| `RPSU` | Regional PSU Code |\n",
    "| `BWEIGHT` | Base Weight |\n",
    "| `RFACT_POP` | Factor for Population |\n",
    "| `PCINC` | Per Capita Income |\n",
    "| `NPCINC` | Normalized Per Capita Income |\n",
    "| `RPCINC` | Regional Per Capita Income |\n",
    "| `PPCINC` | Provincial Per Capita Income |\n",
    "\n",
    "<br>\n",
    "<center><b> Table 5. Problem Statement #3 Relevant Columns</b></center>\n",
    "\n",
    "| Column | Description |\n",
    "|--------|-------------|\n",
    "| Region | The geographic region to which the province belongs |\n",
    "| Province | The code or name of the province |\n",
    "| 2018 TOINC | Total Income for the year 2018 |\n",
    "| 2021 TOINC | Total Income for the year 2021 |\n",
    "| Mean Diff Between 2018 & 2021 | The mean difference in Total Income between the years 2018 and 2021 |"
   ]
  },
  {
   "cell_type": "code",
   "execution_count": 8,
   "id": "ee4eccd5-19a4-4b5e-b7dd-1e11064e5d5e",
   "metadata": {
    "execution": {
     "iopub.execute_input": "2023-12-06T14:34:20.630216Z",
     "iopub.status.busy": "2023-12-06T14:34:20.629500Z",
     "iopub.status.idle": "2023-12-06T14:34:23.668035Z",
     "shell.execute_reply": "2023-12-06T14:34:23.666575Z",
     "shell.execute_reply.started": "2023-12-06T14:34:20.630152Z"
    },
    "tags": []
   },
   "outputs": [],
   "source": [
    "df_fies2018 = pd.read_csv('FIES 2018.csv')\n",
    "df_fies2021 = pd.read_csv('FIES 2021.csv')"
   ]
  },
  {
   "cell_type": "code",
   "execution_count": 9,
   "id": "cbbdd380-585c-41c3-8789-11771a64f1ae",
   "metadata": {
    "execution": {
     "iopub.execute_input": "2023-12-06T14:34:23.670189Z",
     "iopub.status.busy": "2023-12-06T14:34:23.669916Z",
     "iopub.status.idle": "2023-12-06T14:34:23.718941Z",
     "shell.execute_reply": "2023-12-06T14:34:23.718141Z",
     "shell.execute_reply.started": "2023-12-06T14:34:23.670159Z"
    },
    "tags": []
   },
   "outputs": [],
   "source": [
    "df_fies2018['TOINC'] = df_fies2018[['WAGES', 'NETSHARE', 'CASH_ABROAD',\n",
    "                                    'CASH_DOMESTIC', 'RENTALS_REC', 'INTEREST',\n",
    "                                    'PENSION', 'DIVIDENDS', 'OTHER_SOURCE',\n",
    "                                    'NET_RECEIPT', 'REGFT', 'EAINC',\n",
    "                                    'IMPUTED_RENT']].sum(axis=1)\n",
    "df_fies2021['TOINC'] = df_fies2021[['WAGES', 'NETSHARE', 'CASH_ABROAD',\n",
    "                                    'CASH_DOMESTIC', 'RENTALS_REC', 'INTEREST',\n",
    "                                    'PENSION', 'DIVIDENDS', 'OTHER_SOURCE',\n",
    "                                    'NET_RECEIPT', 'REGFT', 'EAINC',\n",
    "                                    'IMPUTED_RENT']].sum(axis=1)"
   ]
  },
  {
   "cell_type": "code",
   "execution_count": 10,
   "id": "361b9e01-2fa2-46ba-8403-2440361dce4b",
   "metadata": {
    "execution": {
     "iopub.execute_input": "2023-12-06T14:34:23.720103Z",
     "iopub.status.busy": "2023-12-06T14:34:23.719866Z",
     "iopub.status.idle": "2023-12-06T14:34:23.727995Z",
     "shell.execute_reply": "2023-12-06T14:34:23.726942Z",
     "shell.execute_reply.started": "2023-12-06T14:34:23.720082Z"
    },
    "tags": []
   },
   "outputs": [],
   "source": [
    "df_fies2018['SAVINGS'] = df_fies2018['TOINC'] - df_fies2018['TOTEX']\n",
    "df_fies2021['SAVINGS'] = df_fies2021['TOINC'] - df_fies2021['TOTEX']"
   ]
  },
  {
   "cell_type": "markdown",
   "id": "c6ab05ae-4980-4fe0-8087-c533497572c7",
   "metadata": {},
   "source": [
    "Shown below are is a preview of the available FIES dataset for 2018."
   ]
  },
  {
   "cell_type": "code",
   "execution_count": 11,
   "id": "0846db5e-1baa-46da-833e-af7825ebe26a",
   "metadata": {
    "execution": {
     "iopub.execute_input": "2023-12-06T14:34:23.730012Z",
     "iopub.status.busy": "2023-12-06T14:34:23.729720Z",
     "iopub.status.idle": "2023-12-06T14:34:23.747454Z",
     "shell.execute_reply": "2023-12-06T14:34:23.746729Z",
     "shell.execute_reply.started": "2023-12-06T14:34:23.729990Z"
    },
    "tags": []
   },
   "outputs": [
    {
     "data": {
      "text/html": [
       "<div>\n",
       "<style scoped>\n",
       "    .dataframe tbody tr th:only-of-type {\n",
       "        vertical-align: middle;\n",
       "    }\n",
       "\n",
       "    .dataframe tbody tr th {\n",
       "        vertical-align: top;\n",
       "    }\n",
       "\n",
       "    .dataframe thead th {\n",
       "        text-align: right;\n",
       "    }\n",
       "</style>\n",
       "<table border=\"1\" class=\"dataframe\">\n",
       "  <thead>\n",
       "    <tr style=\"text-align: right;\">\n",
       "      <th></th>\n",
       "      <th>W_REGN</th>\n",
       "      <th>W_PROV</th>\n",
       "      <th>SEQUENCE_NO</th>\n",
       "      <th>FSIZE</th>\n",
       "      <th>REG_SAL</th>\n",
       "      <th>SEASON_SAL</th>\n",
       "      <th>WAGES</th>\n",
       "      <th>NETSHARE</th>\n",
       "      <th>CASH_ABROAD</th>\n",
       "      <th>CASH_DOMESTIC</th>\n",
       "      <th>...</th>\n",
       "      <th>BWEIGHT</th>\n",
       "      <th>RFACT</th>\n",
       "      <th>RFACT_POP</th>\n",
       "      <th>NTOINC</th>\n",
       "      <th>RTOINC</th>\n",
       "      <th>PTOINC</th>\n",
       "      <th>NPCINC</th>\n",
       "      <th>RPCINC</th>\n",
       "      <th>PPCINC</th>\n",
       "      <th>SAVINGS</th>\n",
       "    </tr>\n",
       "  </thead>\n",
       "  <tbody>\n",
       "    <tr>\n",
       "      <th>0</th>\n",
       "      <td>1</td>\n",
       "      <td>28</td>\n",
       "      <td>1</td>\n",
       "      <td>1.0</td>\n",
       "      <td>0</td>\n",
       "      <td>0</td>\n",
       "      <td>0</td>\n",
       "      <td>0</td>\n",
       "      <td>228384</td>\n",
       "      <td>0</td>\n",
       "      <td>...</td>\n",
       "      <td>93.764</td>\n",
       "      <td>97.7504</td>\n",
       "      <td>100.02387</td>\n",
       "      <td>7</td>\n",
       "      <td>7</td>\n",
       "      <td>6</td>\n",
       "      <td>10</td>\n",
       "      <td>10</td>\n",
       "      <td>10</td>\n",
       "      <td>180630</td>\n",
       "    </tr>\n",
       "    <tr>\n",
       "      <th>1</th>\n",
       "      <td>1</td>\n",
       "      <td>28</td>\n",
       "      <td>2</td>\n",
       "      <td>6.0</td>\n",
       "      <td>0</td>\n",
       "      <td>79800</td>\n",
       "      <td>79800</td>\n",
       "      <td>0</td>\n",
       "      <td>0</td>\n",
       "      <td>33200</td>\n",
       "      <td>...</td>\n",
       "      <td>93.764</td>\n",
       "      <td>97.7504</td>\n",
       "      <td>100.02387</td>\n",
       "      <td>3</td>\n",
       "      <td>3</td>\n",
       "      <td>2</td>\n",
       "      <td>2</td>\n",
       "      <td>1</td>\n",
       "      <td>1</td>\n",
       "      <td>7207</td>\n",
       "    </tr>\n",
       "    <tr>\n",
       "      <th>2</th>\n",
       "      <td>1</td>\n",
       "      <td>28</td>\n",
       "      <td>3</td>\n",
       "      <td>3.0</td>\n",
       "      <td>86840</td>\n",
       "      <td>32710</td>\n",
       "      <td>119550</td>\n",
       "      <td>0</td>\n",
       "      <td>0</td>\n",
       "      <td>9000</td>\n",
       "      <td>...</td>\n",
       "      <td>93.764</td>\n",
       "      <td>97.7504</td>\n",
       "      <td>100.02387</td>\n",
       "      <td>4</td>\n",
       "      <td>3</td>\n",
       "      <td>3</td>\n",
       "      <td>5</td>\n",
       "      <td>5</td>\n",
       "      <td>4</td>\n",
       "      <td>37081</td>\n",
       "    </tr>\n",
       "    <tr>\n",
       "      <th>3</th>\n",
       "      <td>1</td>\n",
       "      <td>28</td>\n",
       "      <td>4</td>\n",
       "      <td>4.0</td>\n",
       "      <td>0</td>\n",
       "      <td>0</td>\n",
       "      <td>0</td>\n",
       "      <td>55250</td>\n",
       "      <td>480000</td>\n",
       "      <td>69000</td>\n",
       "      <td>...</td>\n",
       "      <td>93.764</td>\n",
       "      <td>97.7504</td>\n",
       "      <td>100.02387</td>\n",
       "      <td>10</td>\n",
       "      <td>10</td>\n",
       "      <td>10</td>\n",
       "      <td>10</td>\n",
       "      <td>10</td>\n",
       "      <td>9</td>\n",
       "      <td>337305</td>\n",
       "    </tr>\n",
       "    <tr>\n",
       "      <th>4</th>\n",
       "      <td>1</td>\n",
       "      <td>28</td>\n",
       "      <td>5</td>\n",
       "      <td>3.0</td>\n",
       "      <td>101896</td>\n",
       "      <td>34000</td>\n",
       "      <td>135896</td>\n",
       "      <td>0</td>\n",
       "      <td>0</td>\n",
       "      <td>19000</td>\n",
       "      <td>...</td>\n",
       "      <td>93.764</td>\n",
       "      <td>97.7504</td>\n",
       "      <td>100.02387</td>\n",
       "      <td>6</td>\n",
       "      <td>7</td>\n",
       "      <td>6</td>\n",
       "      <td>8</td>\n",
       "      <td>8</td>\n",
       "      <td>7</td>\n",
       "      <td>14337</td>\n",
       "    </tr>\n",
       "  </tbody>\n",
       "</table>\n",
       "<p>5 rows × 87 columns</p>\n",
       "</div>"
      ],
      "text/plain": [
       "   W_REGN  W_PROV  SEQUENCE_NO  FSIZE  REG_SAL  SEASON_SAL   WAGES  NETSHARE  \\\n",
       "0       1      28            1    1.0        0           0       0         0   \n",
       "1       1      28            2    6.0        0       79800   79800         0   \n",
       "2       1      28            3    3.0    86840       32710  119550         0   \n",
       "3       1      28            4    4.0        0           0       0     55250   \n",
       "4       1      28            5    3.0   101896       34000  135896         0   \n",
       "\n",
       "   CASH_ABROAD  CASH_DOMESTIC  ...  BWEIGHT    RFACT  RFACT_POP  NTOINC  \\\n",
       "0       228384              0  ...   93.764  97.7504  100.02387       7   \n",
       "1            0          33200  ...   93.764  97.7504  100.02387       3   \n",
       "2            0           9000  ...   93.764  97.7504  100.02387       4   \n",
       "3       480000          69000  ...   93.764  97.7504  100.02387      10   \n",
       "4            0          19000  ...   93.764  97.7504  100.02387       6   \n",
       "\n",
       "   RTOINC  PTOINC  NPCINC  RPCINC  PPCINC  SAVINGS  \n",
       "0       7       6      10      10      10   180630  \n",
       "1       3       2       2       1       1     7207  \n",
       "2       3       3       5       5       4    37081  \n",
       "3      10      10      10      10       9   337305  \n",
       "4       7       6       8       8       7    14337  \n",
       "\n",
       "[5 rows x 87 columns]"
      ]
     },
     "execution_count": 11,
     "metadata": {},
     "output_type": "execute_result"
    }
   ],
   "source": [
    "df_fies2018.head()"
   ]
  },
  {
   "cell_type": "markdown",
   "id": "f89b3c8a-6676-4b2b-bad1-2a2dc0ecac12",
   "metadata": {},
   "source": [
    "Shown below are is a preview of the available FIES dataset for 2021."
   ]
  },
  {
   "cell_type": "code",
   "execution_count": 12,
   "id": "44e86daa-6039-4d3a-97cd-dd8462b0229a",
   "metadata": {
    "execution": {
     "iopub.execute_input": "2023-12-06T14:34:23.748484Z",
     "iopub.status.busy": "2023-12-06T14:34:23.748251Z",
     "iopub.status.idle": "2023-12-06T14:34:23.766439Z",
     "shell.execute_reply": "2023-12-06T14:34:23.765683Z",
     "shell.execute_reply.started": "2023-12-06T14:34:23.748463Z"
    },
    "tags": []
   },
   "outputs": [
    {
     "data": {
      "text/html": [
       "<div>\n",
       "<style scoped>\n",
       "    .dataframe tbody tr th:only-of-type {\n",
       "        vertical-align: middle;\n",
       "    }\n",
       "\n",
       "    .dataframe tbody tr th {\n",
       "        vertical-align: top;\n",
       "    }\n",
       "\n",
       "    .dataframe thead th {\n",
       "        text-align: right;\n",
       "    }\n",
       "</style>\n",
       "<table border=\"1\" class=\"dataframe\">\n",
       "  <thead>\n",
       "    <tr style=\"text-align: right;\">\n",
       "      <th></th>\n",
       "      <th>W_REGN</th>\n",
       "      <th>W_PROV</th>\n",
       "      <th>SEQUENCE_NO</th>\n",
       "      <th>FSIZE</th>\n",
       "      <th>REG_SAL</th>\n",
       "      <th>SEASON_SAL</th>\n",
       "      <th>WAGES</th>\n",
       "      <th>NETSHARE</th>\n",
       "      <th>CASH_ABROAD</th>\n",
       "      <th>CASH_DOMESTIC</th>\n",
       "      <th>...</th>\n",
       "      <th>RPROV</th>\n",
       "      <th>RPSU</th>\n",
       "      <th>BWEIGHT</th>\n",
       "      <th>RFACT</th>\n",
       "      <th>RFACT_POP</th>\n",
       "      <th>PCINC</th>\n",
       "      <th>NPCINC</th>\n",
       "      <th>RPCINC</th>\n",
       "      <th>PPCINC</th>\n",
       "      <th>SAVINGS</th>\n",
       "    </tr>\n",
       "  </thead>\n",
       "  <tbody>\n",
       "    <tr>\n",
       "      <th>0</th>\n",
       "      <td>1</td>\n",
       "      <td>28</td>\n",
       "      <td>1</td>\n",
       "      <td>6.5</td>\n",
       "      <td>290000</td>\n",
       "      <td>0</td>\n",
       "      <td>290000</td>\n",
       "      <td>0</td>\n",
       "      <td>0</td>\n",
       "      <td>340000</td>\n",
       "      <td>...</td>\n",
       "      <td>2800</td>\n",
       "      <td>217</td>\n",
       "      <td>100.768</td>\n",
       "      <td>103.1817</td>\n",
       "      <td>106.2332</td>\n",
       "      <td>107683.08</td>\n",
       "      <td>8.0</td>\n",
       "      <td>8.0</td>\n",
       "      <td>7.0</td>\n",
       "      <td>349536</td>\n",
       "    </tr>\n",
       "    <tr>\n",
       "      <th>1</th>\n",
       "      <td>1</td>\n",
       "      <td>28</td>\n",
       "      <td>2</td>\n",
       "      <td>4.0</td>\n",
       "      <td>80000</td>\n",
       "      <td>72000</td>\n",
       "      <td>152000</td>\n",
       "      <td>20500</td>\n",
       "      <td>60000</td>\n",
       "      <td>32500</td>\n",
       "      <td>...</td>\n",
       "      <td>2800</td>\n",
       "      <td>217</td>\n",
       "      <td>100.768</td>\n",
       "      <td>103.1817</td>\n",
       "      <td>106.2332</td>\n",
       "      <td>81202.50</td>\n",
       "      <td>7.0</td>\n",
       "      <td>7.0</td>\n",
       "      <td>6.0</td>\n",
       "      <td>92910</td>\n",
       "    </tr>\n",
       "    <tr>\n",
       "      <th>2</th>\n",
       "      <td>1</td>\n",
       "      <td>28</td>\n",
       "      <td>3</td>\n",
       "      <td>1.0</td>\n",
       "      <td>0</td>\n",
       "      <td>0</td>\n",
       "      <td>0</td>\n",
       "      <td>0</td>\n",
       "      <td>30000</td>\n",
       "      <td>81000</td>\n",
       "      <td>...</td>\n",
       "      <td>2800</td>\n",
       "      <td>217</td>\n",
       "      <td>100.768</td>\n",
       "      <td>103.1817</td>\n",
       "      <td>106.2332</td>\n",
       "      <td>190061.00</td>\n",
       "      <td>10.0</td>\n",
       "      <td>10.0</td>\n",
       "      <td>9.0</td>\n",
       "      <td>42551</td>\n",
       "    </tr>\n",
       "    <tr>\n",
       "      <th>3</th>\n",
       "      <td>1</td>\n",
       "      <td>28</td>\n",
       "      <td>4</td>\n",
       "      <td>3.0</td>\n",
       "      <td>0</td>\n",
       "      <td>0</td>\n",
       "      <td>0</td>\n",
       "      <td>8700</td>\n",
       "      <td>170000</td>\n",
       "      <td>0</td>\n",
       "      <td>...</td>\n",
       "      <td>2800</td>\n",
       "      <td>217</td>\n",
       "      <td>100.768</td>\n",
       "      <td>103.1817</td>\n",
       "      <td>106.2332</td>\n",
       "      <td>71235.00</td>\n",
       "      <td>7.0</td>\n",
       "      <td>7.0</td>\n",
       "      <td>5.0</td>\n",
       "      <td>60249</td>\n",
       "    </tr>\n",
       "    <tr>\n",
       "      <th>4</th>\n",
       "      <td>1</td>\n",
       "      <td>28</td>\n",
       "      <td>5</td>\n",
       "      <td>4.0</td>\n",
       "      <td>12000</td>\n",
       "      <td>80400</td>\n",
       "      <td>92400</td>\n",
       "      <td>250</td>\n",
       "      <td>30000</td>\n",
       "      <td>0</td>\n",
       "      <td>...</td>\n",
       "      <td>2800</td>\n",
       "      <td>217</td>\n",
       "      <td>100.768</td>\n",
       "      <td>103.1817</td>\n",
       "      <td>106.2332</td>\n",
       "      <td>68072.50</td>\n",
       "      <td>6.0</td>\n",
       "      <td>6.0</td>\n",
       "      <td>4.0</td>\n",
       "      <td>42598</td>\n",
       "    </tr>\n",
       "  </tbody>\n",
       "</table>\n",
       "<p>5 rows × 89 columns</p>\n",
       "</div>"
      ],
      "text/plain": [
       "   W_REGN  W_PROV  SEQUENCE_NO  FSIZE  REG_SAL  SEASON_SAL   WAGES  NETSHARE  \\\n",
       "0       1      28            1    6.5   290000           0  290000         0   \n",
       "1       1      28            2    4.0    80000       72000  152000     20500   \n",
       "2       1      28            3    1.0        0           0       0         0   \n",
       "3       1      28            4    3.0        0           0       0      8700   \n",
       "4       1      28            5    4.0    12000       80400   92400       250   \n",
       "\n",
       "   CASH_ABROAD  CASH_DOMESTIC  ...  RPROV  RPSU  BWEIGHT     RFACT  RFACT_POP  \\\n",
       "0            0         340000  ...   2800   217  100.768  103.1817   106.2332   \n",
       "1        60000          32500  ...   2800   217  100.768  103.1817   106.2332   \n",
       "2        30000          81000  ...   2800   217  100.768  103.1817   106.2332   \n",
       "3       170000              0  ...   2800   217  100.768  103.1817   106.2332   \n",
       "4        30000              0  ...   2800   217  100.768  103.1817   106.2332   \n",
       "\n",
       "       PCINC  NPCINC  RPCINC  PPCINC  SAVINGS  \n",
       "0  107683.08     8.0     8.0     7.0   349536  \n",
       "1   81202.50     7.0     7.0     6.0    92910  \n",
       "2  190061.00    10.0    10.0     9.0    42551  \n",
       "3   71235.00     7.0     7.0     5.0    60249  \n",
       "4   68072.50     6.0     6.0     4.0    42598  \n",
       "\n",
       "[5 rows x 89 columns]"
      ]
     },
     "execution_count": 12,
     "metadata": {},
     "output_type": "execute_result"
    }
   ],
   "source": [
    "df_fies2021.head()"
   ]
  },
  {
   "cell_type": "markdown",
   "id": "d6901510-69e1-4d7b-92a3-7682d5161b2c",
   "metadata": {
    "execution": {
     "iopub.execute_input": "2023-12-05T15:11:56.261739Z",
     "iopub.status.busy": "2023-12-05T15:11:56.261038Z",
     "iopub.status.idle": "2023-12-05T15:11:56.272015Z",
     "shell.execute_reply": "2023-12-05T15:11:56.269888Z",
     "shell.execute_reply.started": "2023-12-05T15:11:56.261679Z"
    },
    "tags": []
   },
   "source": [
    "<h3>Data Scope and Limitation</h3>"
   ]
  },
  {
   "cell_type": "markdown",
   "id": "24d81669-d8fa-4f59-8d27-4f61fbd61b85",
   "metadata": {},
   "source": [
    "Given the nature of the data collection only occurring every three years, the analysis of the data is only limited to the years 2018 and 2021."
   ]
  },
  {
   "cell_type": "markdown",
   "id": "d5516f91-cb12-4163-9241-796ace10e32e",
   "metadata": {},
   "source": [
    "<div style='display: flex; justify-content: space-between; align-items: center; padding: 10px; width: 100%; background-color: #F5F5DC'>\n",
    "    <h1>EXPLORATORY DATA ANALYSIS AND HYPOTHESIS TESTING</h1>\n",
    "    <img src='png.png' style='height: 50px; width: auto; margin-left: auto; padding: 10px'>\n",
    "</div>"
   ]
  },
  {
   "cell_type": "markdown",
   "id": "f7e2dd75-0149-4373-aa65-1dab1db816c4",
   "metadata": {},
   "source": [
    "This section delves into each problem statement with the following processes:\n",
    "* Exploratory data analysis with graphs and plots to identify potential trends or patterns to the data.\n",
    "* Develop the null and alternative hypothesis to address the problem statement\n",
    "* Conduct hypothesis testing and identify the appropriate test statistics\n",
    "* Interpretation of results of hypothesis test"
   ]
  },
  {
   "cell_type": "markdown",
   "id": "5f82397a-0895-471c-a2e4-be139d827fbd",
   "metadata": {
    "execution": {
     "iopub.execute_input": "2023-12-05T15:13:24.647379Z",
     "iopub.status.busy": "2023-12-05T15:13:24.646616Z",
     "iopub.status.idle": "2023-12-05T15:13:24.658845Z",
     "shell.execute_reply": "2023-12-05T15:13:24.656252Z",
     "shell.execute_reply.started": "2023-12-05T15:13:24.647317Z"
    },
    "tags": []
   },
   "source": [
    "<h2>1. Is there a significant difference in Filipino income, expense and savings between 2018 and 2021?</h2>"
   ]
  },
  {
   "cell_type": "markdown",
   "id": "e3c7debc-7200-4f11-9779-e11345434ea3",
   "metadata": {},
   "source": [
    "<h3>EDA</h3>"
   ]
  },
  {
   "cell_type": "code",
   "execution_count": 13,
   "id": "12c33359-4ade-4201-ad32-0fdbcd104d26",
   "metadata": {
    "execution": {
     "iopub.execute_input": "2023-12-06T14:34:25.234273Z",
     "iopub.status.busy": "2023-12-06T14:34:25.232664Z",
     "iopub.status.idle": "2023-12-06T14:34:25.277546Z",
     "shell.execute_reply": "2023-12-06T14:34:25.276702Z",
     "shell.execute_reply.started": "2023-12-06T14:34:25.234207Z"
    },
    "tags": []
   },
   "outputs": [],
   "source": [
    "data_2021_toinc = df_fies2021.groupby('W_PROV')['TOINC'].mean()\n",
    "data_2018_toinc = df_fies2018.groupby('W_PROV')['TOINC'].mean()\n",
    "data_2021_totex = df_fies2021.groupby('W_PROV')['TOTEX'].mean()\n",
    "data_2018_totex = df_fies2018.groupby('W_PROV')['TOTEX'].mean()\n",
    "data_2021_savings = df_fies2021.groupby('W_PROV')['SAVINGS'].mean()\n",
    "data_2018_savings = df_fies2018.groupby('W_PROV')['SAVINGS'].mean()"
   ]
  },
  {
   "cell_type": "markdown",
   "id": "a021699e-10a4-4cf1-b27d-214fc3aca44c",
   "metadata": {},
   "source": [
    "To conduct the EDA, the household data was first grouped by in terms of province level. Afterwards, the income, expense and savings were plotted per year to identify for potential for patterns.\n",
    "\n",
    "As shown below in <b>Figure 1. Comparison of Income, Expenses, and Savings between 2018 and 2021</b>, there is a potential for some differences between the two years that can be further explored via hypothesis testing."
   ]
  },
  {
   "cell_type": "code",
   "execution_count": 107,
   "id": "53dcb512-1bb2-4d5c-8f3c-bd3b10d76374",
   "metadata": {
    "execution": {
     "iopub.execute_input": "2023-12-06T15:39:14.287512Z",
     "iopub.status.busy": "2023-12-06T15:39:14.286783Z",
     "iopub.status.idle": "2023-12-06T15:39:14.490387Z",
     "shell.execute_reply": "2023-12-06T15:39:14.489566Z",
     "shell.execute_reply.started": "2023-12-06T15:39:14.287449Z"
    },
    "tags": []
   },
   "outputs": [
    {
     "data": {
      "image/png": "[encoded data removed]",
      "text/plain": [
       "<Figure size 1000x700 with 1 Axes>"
      ]
     },
     "metadata": {},
     "output_type": "display_data"
    }
   ],
   "source": [
    "fig = plt.figure(figsize =(10, 7)) \n",
    "labels = ['2021 Income', '2018 Income',\n",
    "          '2021 Expenses', '2018 Expenses',\n",
    "          '2021 Savings', '2018 Savings']\n",
    "plt.boxplot([data_2021_toinc, data_2018_toinc,\n",
    "             data_2021_totex, data_2018_totex,\n",
    "             data_2021_savings, data_2018_savings], labels=labels)\n",
    "plt.title('Figure 1. Comparison of Income, Expenses, and Savings '\n",
    "          'between 2018 and 2021')\n",
    "plt.show()"
   ]
  },
  {
   "cell_type": "markdown",
   "id": "2782bc55-2d17-4449-bf93-765322065f2c",
   "metadata": {},
   "source": [
    "<h3>Objective</h3>"
   ]
  },
  {
   "cell_type": "markdown",
   "id": "7ea7c13f-43cd-4eef-97ab-a52d0ff8ef44",
   "metadata": {},
   "source": [
    "This study aims to discern the economic impact of the COVID-19 pandemic on the Filipino community by analyzing changes in savings, income, and expenses between the years 2018 and 2021. This period is significant as it encompasses the pre-pandemic and pandemic phases, expected to have profound implications on financial behaviors."
   ]
  },
  {
   "cell_type": "markdown",
   "id": "d57efb3d-c626-4aa3-bf5d-7d96142f50ba",
   "metadata": {},
   "source": [
    "<h3>Null and Alternative Hypothesis</h3>"
   ]
  },
  {
   "cell_type": "markdown",
   "id": "a21ee70d-69dc-4771-9c8c-1d95a74dea17",
   "metadata": {},
   "source": [
    "<b>For Income:</b>\n",
    "* Null Hypothesis: There is no significant difference between Filipino income in 2018 and 2021.\n",
    "* Alternative Hypothesis: There is significant difference between the income  in 2018 and 2021.\n",
    "\n",
    "<b>For Expense:</b>\n",
    "* Null Hypothesis: There is no significant difference between Filipino expense in 2018 and 2021.\n",
    "* Alternative Hypothesis: There is significant difference between the Filipino expense in 2018 and 2021.\n",
    "\n",
    "<b>For Savings = Income - Expenditure</b>\n",
    "* Null Hypothesis: There is no significant difference between Filipino savings in 2018 and 2021.\n",
    "* Alternative Hypothesis: There is significant difference between the Filipino savings in 2018 and 2021."
   ]
  },
  {
   "cell_type": "markdown",
   "id": "873a3aed-13fa-4f30-808e-a3bbceda7d0a",
   "metadata": {
    "execution": {
     "iopub.execute_input": "2023-12-05T15:15:40.177087Z",
     "iopub.status.busy": "2023-12-05T15:15:40.176317Z",
     "iopub.status.idle": "2023-12-05T15:15:40.187249Z",
     "shell.execute_reply": "2023-12-05T15:15:40.184881Z",
     "shell.execute_reply.started": "2023-12-05T15:15:40.177026Z"
    },
    "tags": []
   },
   "source": [
    "<h3>Hypothesis Testing</h3>"
   ]
  },
  {
   "cell_type": "code",
   "execution_count": 15,
   "id": "2d635cfb-c841-4221-b992-8527e89e860a",
   "metadata": {
    "execution": {
     "iopub.execute_input": "2023-12-06T14:34:27.650968Z",
     "iopub.status.busy": "2023-12-06T14:34:27.650244Z",
     "iopub.status.idle": "2023-12-06T14:34:27.663125Z",
     "shell.execute_reply": "2023-12-06T14:34:27.660839Z",
     "shell.execute_reply.started": "2023-12-06T14:34:27.650903Z"
    },
    "tags": []
   },
   "outputs": [],
   "source": [
    "def pair_t_test(data_2021, data_2018):\n",
    "    t_statistic, p_value = stats.ttest_rel(data_2021, data_2018)\n",
    "    print(\"\\nPaired Samples t-Test\")\n",
    "    print(\"T-Statistic:\", t_statistic)\n",
    "    print(\"P-Value:\", p_value)\n",
    "\n",
    "    if p_value < sig:\n",
    "        print(\"Reject the null hypothesis, the alternative must be true.\") \n",
    "    else:\n",
    "        print(\"Fail to reject the null hypothesis.\")"
   ]
  },
  {
   "cell_type": "code",
   "execution_count": 16,
   "id": "0d3321d8-05b0-4fc8-871b-4b69fe35ea2b",
   "metadata": {
    "execution": {
     "iopub.execute_input": "2023-12-06T14:34:27.827613Z",
     "iopub.status.busy": "2023-12-06T14:34:27.826920Z",
     "iopub.status.idle": "2023-12-06T14:34:27.836715Z",
     "shell.execute_reply": "2023-12-06T14:34:27.834345Z",
     "shell.execute_reply.started": "2023-12-06T14:34:27.827550Z"
    },
    "tags": []
   },
   "outputs": [],
   "source": [
    "sig = 0.05"
   ]
  },
  {
   "cell_type": "markdown",
   "id": "c09ee165-4d8d-43de-94a3-24889e31278b",
   "metadata": {},
   "source": [
    "A <b>paired t-test</b> was conducted per hypothesis for the income, expense and savings, with a significance of 0.05. The households were grouped on a province level. The pairs consist of the average income, expense and savings of each province between 2018 versus 2021."
   ]
  },
  {
   "cell_type": "markdown",
   "id": "cc6d6745-da7e-4ed0-97a6-e2952ae77308",
   "metadata": {
    "execution": {
     "iopub.execute_input": "2023-12-06T05:07:35.020371Z",
     "iopub.status.busy": "2023-12-06T05:07:35.019633Z",
     "iopub.status.idle": "2023-12-06T05:07:35.030930Z",
     "shell.execute_reply": "2023-12-06T05:07:35.028690Z",
     "shell.execute_reply.started": "2023-12-06T05:07:35.020308Z"
    },
    "tags": []
   },
   "source": [
    "<b>For Income:</b>"
   ]
  },
  {
   "cell_type": "code",
   "execution_count": 17,
   "id": "e7515041-dd99-47a2-be43-0de2e962ab5e",
   "metadata": {
    "execution": {
     "iopub.execute_input": "2023-12-06T14:34:30.311133Z",
     "iopub.status.busy": "2023-12-06T14:34:30.309083Z",
     "iopub.status.idle": "2023-12-06T14:34:30.325224Z",
     "shell.execute_reply": "2023-12-06T14:34:30.323432Z",
     "shell.execute_reply.started": "2023-12-06T14:34:30.311063Z"
    },
    "tags": []
   },
   "outputs": [
    {
     "name": "stdout",
     "output_type": "stream",
     "text": [
      "\n",
      "Paired Samples t-Test\n",
      "T-Statistic: 2.1208894861849616\n",
      "P-Value: 0.03681014072923067\n",
      "Reject the null hypothesis, the alternative must be true.\n"
     ]
    }
   ],
   "source": [
    "pair_t_test(data_2021_toinc, data_2018_toinc)"
   ]
  },
  {
   "cell_type": "markdown",
   "id": "05566a1a-5729-4067-b86b-5d5f1ad0f6e5",
   "metadata": {},
   "source": [
    "<b>For Expense:</b>"
   ]
  },
  {
   "cell_type": "code",
   "execution_count": 18,
   "id": "fbcb7136-c3b9-4448-ad39-b9738e3e621a",
   "metadata": {
    "execution": {
     "iopub.execute_input": "2023-12-06T14:34:31.315200Z",
     "iopub.status.busy": "2023-12-06T14:34:31.313962Z",
     "iopub.status.idle": "2023-12-06T14:34:31.326749Z",
     "shell.execute_reply": "2023-12-06T14:34:31.324850Z",
     "shell.execute_reply.started": "2023-12-06T14:34:31.315131Z"
    },
    "tags": []
   },
   "outputs": [
    {
     "name": "stdout",
     "output_type": "stream",
     "text": [
      "\n",
      "Paired Samples t-Test\n",
      "T-Statistic: 0.9948473108739614\n",
      "P-Value: 0.32260148562071767\n",
      "Fail to reject the null hypothesis.\n"
     ]
    }
   ],
   "source": [
    "pair_t_test(data_2021_totex, data_2018_totex)"
   ]
  },
  {
   "cell_type": "markdown",
   "id": "81089098-3722-4963-87e3-63eb1402b8ec",
   "metadata": {},
   "source": [
    "<b>For Savings:</b>"
   ]
  },
  {
   "cell_type": "code",
   "execution_count": 19,
   "id": "78ac5cb1-16e2-4450-88e3-60e406e07832",
   "metadata": {
    "execution": {
     "iopub.execute_input": "2023-12-06T14:34:32.381810Z",
     "iopub.status.busy": "2023-12-06T14:34:32.381076Z",
     "iopub.status.idle": "2023-12-06T14:34:32.393374Z",
     "shell.execute_reply": "2023-12-06T14:34:32.391850Z",
     "shell.execute_reply.started": "2023-12-06T14:34:32.381744Z"
    },
    "tags": []
   },
   "outputs": [
    {
     "name": "stdout",
     "output_type": "stream",
     "text": [
      "\n",
      "Paired Samples t-Test\n",
      "T-Statistic: 1.9286416933150923\n",
      "P-Value: 0.05707412766103533\n",
      "Fail to reject the null hypothesis.\n"
     ]
    }
   ],
   "source": [
    "pair_t_test(data_2021_savings, data_2018_savings)"
   ]
  },
  {
   "cell_type": "markdown",
   "id": "0fdec7e4-7983-426a-9097-bedc5e1dbe73",
   "metadata": {},
   "source": [
    "<h3>Results</h3>"
   ]
  },
  {
   "cell_type": "markdown",
   "id": "2fd0a0d6-6eb3-430a-ad8a-7aa205f8cbde",
   "metadata": {},
   "source": [
    "Based on the results of the hypothesis testing, we cannot firmly conclude that there is a significant difference between the expense and savings between the years 2018 to 2021.\n",
    "\n",
    "However, we can say that <b>there is a significant difference between the income for 2018 and 2021.</b>"
   ]
  },
  {
   "cell_type": "markdown",
   "id": "28393fce-d40b-4e5d-b099-a717573a9e4c",
   "metadata": {
    "execution": {
     "iopub.execute_input": "2023-12-05T15:16:30.529845Z",
     "iopub.status.busy": "2023-12-05T15:16:30.529138Z",
     "iopub.status.idle": "2023-12-05T15:16:30.540045Z",
     "shell.execute_reply": "2023-12-05T15:16:30.537691Z",
     "shell.execute_reply.started": "2023-12-05T15:16:30.529786Z"
    },
    "tags": []
   },
   "source": [
    "<h2>2. Is there a significant correlation between the income versus other features (e.g. family size, expense types, etc.) for provinces with the lowest and highest income difference between 2018 and 2021? </h2>"
   ]
  },
  {
   "cell_type": "markdown",
   "id": "b72bcd00-6f0f-4857-91a7-2fd464bdf613",
   "metadata": {},
   "source": [
    "<h3>EDA</h3>"
   ]
  },
  {
   "cell_type": "code",
   "execution_count": 20,
   "id": "7d00af93-75ac-406b-ac1f-0ff348b1c0c1",
   "metadata": {
    "execution": {
     "iopub.execute_input": "2023-12-06T14:34:34.012646Z",
     "iopub.status.busy": "2023-12-06T14:34:34.011881Z",
     "iopub.status.idle": "2023-12-06T14:34:34.208040Z",
     "shell.execute_reply": "2023-12-06T14:34:34.207230Z",
     "shell.execute_reply.started": "2023-12-06T14:34:34.012583Z"
    },
    "tags": []
   },
   "outputs": [],
   "source": [
    "data_inc_dec = df_fies2021.copy()\n",
    "data_inc_dec['INC_DEC'] = pd.qcut(data_inc_dec['TOINC'], q=10, labels=False)"
   ]
  },
  {
   "cell_type": "markdown",
   "id": "cfa7dc34-a68d-42af-b439-4d798aeffc0a",
   "metadata": {},
   "source": [
    "To conduct the EDA, the dataset was split into 10 deciles based on total income. Afterwards, the family size was plotted per decile to identify for potential for patterns.\n",
    "\n",
    "As shown below in <b>Figure 2. Distribution of Family Size Across Income Deciles</b>, there is a potential for a correlation between the family size and income that can be further explored via hypothesis testing."
   ]
  },
  {
   "cell_type": "code",
   "execution_count": 108,
   "id": "ba8314fd-1339-45d3-9b21-23dc2f89a591",
   "metadata": {
    "execution": {
     "iopub.execute_input": "2023-12-06T15:39:25.607819Z",
     "iopub.status.busy": "2023-12-06T15:39:25.607084Z",
     "iopub.status.idle": "2023-12-06T15:39:25.864128Z",
     "shell.execute_reply": "2023-12-06T15:39:25.863270Z",
     "shell.execute_reply.started": "2023-12-06T15:39:25.607756Z"
    },
    "tags": []
   },
   "outputs": [
    {
     "data": {
      "image/png": "[encoded data removed]",
      "text/plain": [
       "<Figure size 1000x700 with 1 Axes>"
      ]
     },
     "metadata": {},
     "output_type": "display_data"
    }
   ],
   "source": [
    "plt.figure(figsize=(10, 7))\n",
    "sns.boxplot(x='INC_DEC', y='FSIZE', data=data_inc_dec, color='white', sym='')\n",
    "plt.xlabel('Income Decile')\n",
    "plt.ylabel('Family Size')\n",
    "plt.title('Figure 2. Distribution of Family Size Across Income Deciles')\n",
    "\n",
    "plt.show()"
   ]
  },
  {
   "cell_type": "markdown",
   "id": "6ff88c69-210f-4a38-8e9e-85e0968a10f2",
   "metadata": {},
   "source": [
    "Similarly, the total expense was plotted per decile to identify for potential for patterns.\n",
    "\n",
    "As shown below in <b>Figure 3. Distribution of Total Expense Across Income Deciles</b>, there is a potential for a correlation between the expense and income that can be further explored via hypothesis testing."
   ]
  },
  {
   "cell_type": "code",
   "execution_count": 109,
   "id": "05fa9869-44cc-4f3e-a36f-87d34d9ec006",
   "metadata": {
    "execution": {
     "iopub.execute_input": "2023-12-06T15:39:35.276792Z",
     "iopub.status.busy": "2023-12-06T15:39:35.276004Z",
     "iopub.status.idle": "2023-12-06T15:39:35.526712Z",
     "shell.execute_reply": "2023-12-06T15:39:35.525912Z",
     "shell.execute_reply.started": "2023-12-06T15:39:35.276728Z"
    },
    "tags": []
   },
   "outputs": [
    {
     "data": {
      "image/png": "[encoded data removed]",
      "text/plain": [
       "<Figure size 1000x700 with 1 Axes>"
      ]
     },
     "metadata": {},
     "output_type": "display_data"
    }
   ],
   "source": [
    "plt.figure(figsize=(10, 7))\n",
    "sns.boxplot(x='INC_DEC', y='TOTEX', data=data_inc_dec, color='white', sym='')\n",
    "plt.xlabel('Income Decile')\n",
    "plt.ylabel('Total Expense')\n",
    "plt.title('Figure 3. Distribution of Total Expense Across Income Deciles')\n",
    "\n",
    "plt.show()"
   ]
  },
  {
   "cell_type": "code",
   "execution_count": 23,
   "id": "fef1304d-2817-407f-ad0a-a24ecbab0d0e",
   "metadata": {
    "execution": {
     "iopub.execute_input": "2023-12-06T14:34:35.120468Z",
     "iopub.status.busy": "2023-12-06T14:34:35.120205Z",
     "iopub.status.idle": "2023-12-06T14:34:35.125498Z",
     "shell.execute_reply": "2023-12-06T14:34:35.124679Z",
     "shell.execute_reply.started": "2023-12-06T14:34:35.120435Z"
    },
    "tags": []
   },
   "outputs": [],
   "source": [
    "data_difference_income = data_2021_toinc - data_2018_toinc"
   ]
  },
  {
   "cell_type": "markdown",
   "id": "74401e45-a1e9-4b51-9fe3-1548df08728a",
   "metadata": {},
   "source": [
    "Lastly, the income differences between 2018 and 2021 were plotted on a province level. As expected, there was an identified variability between the provinces, as displayed in <b>Figure 4. Total Income Difference between 2018 and 2021 per Province</b>."
   ]
  },
  {
   "cell_type": "code",
   "execution_count": 111,
   "id": "9020c439-a4d7-4fd8-8352-4c881edaf331",
   "metadata": {
    "execution": {
     "iopub.execute_input": "2023-12-06T15:40:03.567434Z",
     "iopub.status.busy": "2023-12-06T15:40:03.566692Z",
     "iopub.status.idle": "2023-12-06T15:40:03.785034Z",
     "shell.execute_reply": "2023-12-06T15:40:03.784288Z",
     "shell.execute_reply.started": "2023-12-06T15:40:03.567371Z"
    },
    "tags": []
   },
   "outputs": [
    {
     "data": {
      "image/png": "[encoded data removed]",
      "text/plain": [
       "<Figure size 1000x700 with 1 Axes>"
      ]
     },
     "metadata": {},
     "output_type": "display_data"
    }
   ],
   "source": [
    "plt.figure(figsize=(10, 7))\n",
    "plt.plot(data_difference_income.index, data_difference_income, marker='o',\n",
    "         linestyle='-', label='Line Plot', color='darkblue')\n",
    "plt.title('Figure 4. Total Income Difference between 2018 and 2021 '\n",
    "          'per Province')\n",
    "plt.xlabel('Province')\n",
    "plt.ylabel('Income Difference')\n",
    "plt.legend()\n",
    "plt.show()"
   ]
  },
  {
   "cell_type": "markdown",
   "id": "78a2f99d-4cb6-4acf-b9c9-58b5e399e971",
   "metadata": {},
   "source": [
    "Given the observed variability, the hypothesis test would be split into two sections exploring the correlation of income versus other features (e.g. family size, expenditures) on a province level.\n",
    "\n",
    "Specifically, the study will focus on the two provinces with the minimum and maximum income differences between 2018 and 2021, as identified below."
   ]
  },
  {
   "cell_type": "code",
   "execution_count": 25,
   "id": "22203469-f760-4854-8323-5577bd2af3e9",
   "metadata": {
    "execution": {
     "iopub.execute_input": "2023-12-06T14:34:36.035002Z",
     "iopub.status.busy": "2023-12-06T14:34:36.034281Z",
     "iopub.status.idle": "2023-12-06T14:34:36.045451Z",
     "shell.execute_reply": "2023-12-06T14:34:36.043546Z",
     "shell.execute_reply.started": "2023-12-06T14:34:36.034939Z"
    },
    "tags": []
   },
   "outputs": [
    {
     "name": "stdout",
     "output_type": "stream",
     "text": [
      "Province with the max income difference: 9.\n",
      "Province with the min income difference: 76.\n"
     ]
    }
   ],
   "source": [
    "print(f'Province with the max income difference: '\n",
    "      f'{data_difference_income.idxmax()}.')\n",
    "print(f'Province with the min income difference: '\n",
    "      f'{data_difference_income.idxmin()}.')"
   ]
  },
  {
   "cell_type": "markdown",
   "id": "b08ecc09-916d-46ea-a76f-2a8438ccf40e",
   "metadata": {},
   "source": [
    "<h3>Objective</h3>"
   ]
  },
  {
   "cell_type": "markdown",
   "id": "d51ebb7a-ca84-467d-9581-fe9e8af53427",
   "metadata": {},
   "source": [
    "The objectives of this analysis are to understand what affects income across provinces, potentially identify provincial differences, guide policymaking, tackle income disparities, improve economic stability, ensure growth benefits all, and support sustainable development. This helps in creating effective, fair policies for diverse provincial economies."
   ]
  },
  {
   "cell_type": "markdown",
   "id": "200e02b2-4ba0-45f3-829c-20e4dcdb1c2d",
   "metadata": {},
   "source": [
    "<h3>Null and Alternative Hypothesis</h3>"
   ]
  },
  {
   "cell_type": "markdown",
   "id": "36986165-2fa3-4a3d-9f93-d3c144986d8a",
   "metadata": {},
   "source": [
    "<b>For Province 9:</b>\n",
    "* Null Hypothesis: There is no significant correlation between the income for 2021 versus other features such as family size, expenditure types, etc, for the province with the max income difference.\n",
    "* Alternative Hypothesis: There is a significant correlation between the income for 2021 versus other features such as family size, expenditure types, etc, for the province with the max income difference.\n",
    "\n",
    "<b>For Province 76:</b>\n",
    "* Null Hypothesis: There is no significant correlation between the income for 2021 versus other features such as family size, expenditure types, etc, for the province with the min income difference.\n",
    "* Alternative Hypothesis: There is a significant correlation between the income for 2021 versus other features such as family size, expenditure types, etc, for the province with the min income difference."
   ]
  },
  {
   "cell_type": "markdown",
   "id": "9467a0a6-7b0a-4283-b151-b2e740671e09",
   "metadata": {
    "execution": {
     "iopub.execute_input": "2023-12-05T15:15:40.177087Z",
     "iopub.status.busy": "2023-12-05T15:15:40.176317Z",
     "iopub.status.idle": "2023-12-05T15:15:40.187249Z",
     "shell.execute_reply": "2023-12-05T15:15:40.184881Z",
     "shell.execute_reply.started": "2023-12-05T15:15:40.177026Z"
    },
    "tags": []
   },
   "source": [
    "<h3>Hypothesis Testing</h3>"
   ]
  },
  {
   "cell_type": "markdown",
   "id": "41fea3b3-693a-4340-84df-4b2ae2534966",
   "metadata": {
    "execution": {
     "iopub.execute_input": "2023-12-06T08:46:41.027394Z",
     "iopub.status.busy": "2023-12-06T08:46:41.026659Z",
     "iopub.status.idle": "2023-12-06T08:46:41.038202Z",
     "shell.execute_reply": "2023-12-06T08:46:41.035754Z",
     "shell.execute_reply.started": "2023-12-06T08:46:41.027335Z"
    },
    "tags": []
   },
   "source": [
    "<b>For Province 9:</b>"
   ]
  },
  {
   "cell_type": "code",
   "execution_count": 45,
   "id": "706b9044-87a0-433f-9843-0793bdf4e8d6",
   "metadata": {
    "execution": {
     "iopub.execute_input": "2023-12-06T14:41:43.959793Z",
     "iopub.status.busy": "2023-12-06T14:41:43.959025Z",
     "iopub.status.idle": "2023-12-06T14:41:44.013166Z",
     "shell.execute_reply": "2023-12-06T14:41:44.012148Z",
     "shell.execute_reply.started": "2023-12-06T14:41:43.959724Z"
    },
    "tags": []
   },
   "outputs": [],
   "source": [
    "df_fies_2021_filtered = df_fies2021[[\n",
    "    'FSIZE', 'W_PROV', 'TOINC', 'LOSSES', 'BREAD', 'MEAT', 'FISH', 'MILK',\n",
    "    'OIL', 'FRUIT', 'VEG', 'SUGAR', 'FOOD_NEC', 'FRUIT_VEG', 'COFFEE', 'TEA',\n",
    "    'COCOA', 'WATER', 'SOFTDRINKS', 'OTHER_NON_ALCOHOL', 'ALCOHOL',\n",
    "    'TOBACCO', 'OTHER_VEG', 'SERVICES_PRIMARY_GOODS',\n",
    "    'ALCOHOL_PROCDUCTION_SERVICES', 'FOOD_HOME', 'FOOD_OUTSIDE', 'FOOD',\n",
    "    'CLOTH', 'FURNISHING', 'HEALTH', 'HOUSING_WATER', 'ACTRENT', 'RENTVAL',\n",
    "    'TRANSPORT', 'COMMUNICATION', 'RECREATION', 'EDUCATION', 'INSURANCE',\n",
    "    'MISCELLANEOUS', 'DURABLE', 'OCCASION', 'OTHER_EXPENDITURE',\n",
    "    'OTHER_DISBURSEMENT', 'FOOD_ACCOM_SRVC', 'NFOOD', 'TOTDIS', 'OTHREC',\n",
    "    'URB', 'RPROV', 'RPSU', 'BWEIGHT', 'RFACT_POP']]"
   ]
  },
  {
   "cell_type": "code",
   "execution_count": 46,
   "id": "a0c9c427-0018-436e-bbee-a50ada869030",
   "metadata": {
    "execution": {
     "iopub.execute_input": "2023-12-06T14:41:44.111264Z",
     "iopub.status.busy": "2023-12-06T14:41:44.110552Z",
     "iopub.status.idle": "2023-12-06T14:41:44.123948Z",
     "shell.execute_reply": "2023-12-06T14:41:44.121882Z",
     "shell.execute_reply.started": "2023-12-06T14:41:44.111200Z"
    },
    "tags": []
   },
   "outputs": [],
   "source": [
    "def ols_result_max(df_fies_2021_filtered, data_difference_income):\n",
    "    df_prov_max = df_fies_2021_filtered[df_fies_2021_filtered['W_PROV'] == data_difference_income.idxmax()]\n",
    "    df_prov_max_X = df_prov_max.drop(['W_PROV', 'TOINC'], axis=1)\n",
    "    df_prov_max_y = df_prov_max['TOINC']\n",
    "    df_prov_max_X = sm.add_constant(df_prov_max_X)\n",
    "    model = sm.OLS(df_prov_max_y, df_prov_max_X).fit()\n",
    "    return model.summary()"
   ]
  },
  {
   "cell_type": "code",
   "execution_count": 47,
   "id": "31280502-b3b4-407b-b756-4c97618e0129",
   "metadata": {
    "execution": {
     "iopub.execute_input": "2023-12-06T14:41:44.270711Z",
     "iopub.status.busy": "2023-12-06T14:41:44.268971Z",
     "iopub.status.idle": "2023-12-06T14:41:44.281979Z",
     "shell.execute_reply": "2023-12-06T14:41:44.280121Z",
     "shell.execute_reply.started": "2023-12-06T14:41:44.270644Z"
    },
    "tags": []
   },
   "outputs": [],
   "source": [
    "def df_prov_X_y(df_fies_2021_filtered, data_difference_income, max_inc_prov):\n",
    "    if max_inc_prov:\n",
    "        df_prov = df_fies_2021_filtered[df_fies_2021_filtered['W_PROV'] == data_difference_income.idxmax()]\n",
    "    else:\n",
    "        df_prov = df_fies_2021_filtered[df_fies_2021_filtered['W_PROV'] == data_difference_income.idxmin()]\n",
    "    df_prov_X = df_prov.drop(['W_PROV', 'TOINC'], axis=1)\n",
    "    df_prov_y = df_prov['TOINC']\n",
    "    model = sm.OLS(df_prov_y, df_prov_X).fit()\n",
    "    return df_prov_X, df_prov_y, model"
   ]
  },
  {
   "cell_type": "markdown",
   "id": "875160dd-6971-4d1c-b3a0-80c263cf8ef8",
   "metadata": {},
   "source": [
    "<b>Linear Regression</b> was conducted per hypothesis for the lowest and highest income difference provinces. The features tested for correlation against the income was the family size and all expenditure sub-types, for 2021."
   ]
  },
  {
   "cell_type": "markdown",
   "id": "20a199f7-10d3-467f-b699-0e2495c68527",
   "metadata": {
    "execution": {
     "iopub.execute_input": "2023-12-06T08:36:40.250786Z",
     "iopub.status.busy": "2023-12-06T08:36:40.250057Z",
     "iopub.status.idle": "2023-12-06T08:36:40.265545Z",
     "shell.execute_reply": "2023-12-06T08:36:40.263106Z",
     "shell.execute_reply.started": "2023-12-06T08:36:40.250726Z"
    },
    "tags": []
   },
   "source": [
    "The R-squared is at <b>0.798</b> which indicates how well the independent variables explain the variability of the dependent variable. Currently, the score is relatively good.\n",
    "\n",
    "However, upon checking the p-values, multiple independent variables are greater than 0.05 which indicates they are statistically not significant predictor of 'income', and can be subject for exclusion.\n",
    "\n",
    "Upon examining the theoretrical quantiles vs sample quantiles, the datapoints do not fit well the theoretrical distribution."
   ]
  },
  {
   "cell_type": "code",
   "execution_count": 53,
   "id": "e98fbbd3-e9c2-4d41-a635-ca9400c23652",
   "metadata": {
    "execution": {
     "iopub.execute_input": "2023-12-06T14:42:57.437880Z",
     "iopub.status.busy": "2023-12-06T14:42:57.436248Z",
     "iopub.status.idle": "2023-12-06T14:42:58.075710Z",
     "shell.execute_reply": "2023-12-06T14:42:58.073932Z",
     "shell.execute_reply.started": "2023-12-06T14:42:57.437805Z"
    },
    "tags": []
   },
   "outputs": [
    {
     "data": {
      "text/html": [
       "<table class=\"simpletable\">\n",
       "<caption>OLS Regression Results</caption>\n",
       "<tr>\n",
       "  <th>Dep. Variable:</th>          <td>TOINC</td>      <th>  R-squared:         </th> <td>   0.798</td> \n",
       "</tr>\n",
       "<tr>\n",
       "  <th>Model:</th>                   <td>OLS</td>       <th>  Adj. R-squared:    </th> <td>   0.783</td> \n",
       "</tr>\n",
       "<tr>\n",
       "  <th>Method:</th>             <td>Least Squares</td>  <th>  F-statistic:       </th> <td>   53.62</td> \n",
       "</tr>\n",
       "<tr>\n",
       "  <th>Date:</th>             <td>Wed, 06 Dec 2023</td> <th>  Prob (F-statistic):</th> <td>2.45e-185</td>\n",
       "</tr>\n",
       "<tr>\n",
       "  <th>Time:</th>                 <td>14:42:57</td>     <th>  Log-Likelihood:    </th> <td> -9051.5</td> \n",
       "</tr>\n",
       "<tr>\n",
       "  <th>No. Observations:</th>      <td>   670</td>      <th>  AIC:               </th> <td>1.820e+04</td>\n",
       "</tr>\n",
       "<tr>\n",
       "  <th>Df Residuals:</th>          <td>   623</td>      <th>  BIC:               </th> <td>1.841e+04</td>\n",
       "</tr>\n",
       "<tr>\n",
       "  <th>Df Model:</th>              <td>    46</td>      <th>                     </th>     <td> </td>    \n",
       "</tr>\n",
       "<tr>\n",
       "  <th>Covariance Type:</th>      <td>nonrobust</td>    <th>                     </th>     <td> </td>    \n",
       "</tr>\n",
       "</table>\n",
       "<table class=\"simpletable\">\n",
       "<tr>\n",
       "                <td></td>                  <th>coef</th>     <th>std err</th>      <th>t</th>      <th>P>|t|</th>  <th>[0.025</th>    <th>0.975]</th>  \n",
       "</tr>\n",
       "<tr>\n",
       "  <th>FSIZE</th>                        <td> 2.046e+04</td> <td> 5408.577</td> <td>    3.782</td> <td> 0.000</td> <td> 9835.226</td> <td> 3.11e+04</td>\n",
       "</tr>\n",
       "<tr>\n",
       "  <th>LOSSES</th>                       <td> 9.951e-07</td> <td> 4.75e-07</td> <td>    2.094</td> <td> 0.037</td> <td> 6.18e-08</td> <td> 1.93e-06</td>\n",
       "</tr>\n",
       "<tr>\n",
       "  <th>BREAD</th>                        <td> 6330.6692</td> <td> 1.85e+04</td> <td>    0.341</td> <td> 0.733</td> <td>-3.01e+04</td> <td> 4.28e+04</td>\n",
       "</tr>\n",
       "<tr>\n",
       "  <th>MEAT</th>                         <td> 6332.5107</td> <td> 1.85e+04</td> <td>    0.341</td> <td> 0.733</td> <td>-3.01e+04</td> <td> 4.28e+04</td>\n",
       "</tr>\n",
       "<tr>\n",
       "  <th>FISH</th>                         <td> 6331.4626</td> <td> 1.85e+04</td> <td>    0.341</td> <td> 0.733</td> <td>-3.01e+04</td> <td> 4.28e+04</td>\n",
       "</tr>\n",
       "<tr>\n",
       "  <th>MILK</th>                         <td> 6329.3840</td> <td> 1.85e+04</td> <td>    0.341</td> <td> 0.733</td> <td>-3.01e+04</td> <td> 4.28e+04</td>\n",
       "</tr>\n",
       "<tr>\n",
       "  <th>OIL</th>                          <td> 6331.5913</td> <td> 1.85e+04</td> <td>    0.341</td> <td> 0.733</td> <td>-3.01e+04</td> <td> 4.28e+04</td>\n",
       "</tr>\n",
       "<tr>\n",
       "  <th>FRUIT</th>                        <td> 6330.2833</td> <td> 1.85e+04</td> <td>    0.341</td> <td> 0.733</td> <td>-3.01e+04</td> <td> 4.28e+04</td>\n",
       "</tr>\n",
       "<tr>\n",
       "  <th>VEG</th>                          <td> 6330.0492</td> <td> 1.85e+04</td> <td>    0.341</td> <td> 0.733</td> <td>-3.01e+04</td> <td> 4.28e+04</td>\n",
       "</tr>\n",
       "<tr>\n",
       "  <th>SUGAR</th>                        <td> 6324.7364</td> <td> 1.85e+04</td> <td>    0.341</td> <td> 0.733</td> <td>-3.01e+04</td> <td> 4.28e+04</td>\n",
       "</tr>\n",
       "<tr>\n",
       "  <th>FOOD_NEC</th>                     <td> 6332.0134</td> <td> 1.85e+04</td> <td>    0.341</td> <td> 0.733</td> <td>-3.01e+04</td> <td> 4.28e+04</td>\n",
       "</tr>\n",
       "<tr>\n",
       "  <th>FRUIT_VEG</th>                    <td> 6318.0851</td> <td> 1.85e+04</td> <td>    0.341</td> <td> 0.734</td> <td>-3.01e+04</td> <td> 4.27e+04</td>\n",
       "</tr>\n",
       "<tr>\n",
       "  <th>COFFEE</th>                       <td> 6327.8794</td> <td> 1.85e+04</td> <td>    0.341</td> <td> 0.733</td> <td>-3.01e+04</td> <td> 4.28e+04</td>\n",
       "</tr>\n",
       "<tr>\n",
       "  <th>TEA</th>                          <td> 6322.0343</td> <td> 1.85e+04</td> <td>    0.341</td> <td> 0.733</td> <td>-3.01e+04</td> <td> 4.27e+04</td>\n",
       "</tr>\n",
       "<tr>\n",
       "  <th>COCOA</th>                        <td> 6328.3891</td> <td> 1.85e+04</td> <td>    0.341</td> <td> 0.733</td> <td>-3.01e+04</td> <td> 4.28e+04</td>\n",
       "</tr>\n",
       "<tr>\n",
       "  <th>WATER</th>                        <td> 6328.5434</td> <td> 1.85e+04</td> <td>    0.341</td> <td> 0.733</td> <td>-3.01e+04</td> <td> 4.28e+04</td>\n",
       "</tr>\n",
       "<tr>\n",
       "  <th>SOFTDRINKS</th>                   <td> 6346.3548</td> <td> 1.85e+04</td> <td>    0.342</td> <td> 0.732</td> <td>-3.01e+04</td> <td> 4.28e+04</td>\n",
       "</tr>\n",
       "<tr>\n",
       "  <th>OTHER_NON_ALCOHOL</th>            <td>  -25.9298</td> <td>   21.530</td> <td>   -1.204</td> <td> 0.229</td> <td>  -68.209</td> <td>   16.350</td>\n",
       "</tr>\n",
       "<tr>\n",
       "  <th>ALCOHOL</th>                      <td> 1.323e+04</td> <td> 7875.509</td> <td>    1.680</td> <td> 0.094</td> <td>-2237.080</td> <td> 2.87e+04</td>\n",
       "</tr>\n",
       "<tr>\n",
       "  <th>TOBACCO</th>                      <td> 1.323e+04</td> <td> 7875.423</td> <td>    1.680</td> <td> 0.093</td> <td>-2233.783</td> <td> 2.87e+04</td>\n",
       "</tr>\n",
       "<tr>\n",
       "  <th>OTHER_VEG</th>                    <td> 1.323e+04</td> <td> 7875.818</td> <td>    1.680</td> <td> 0.093</td> <td>-2232.277</td> <td> 2.87e+04</td>\n",
       "</tr>\n",
       "<tr>\n",
       "  <th>SERVICES_PRIMARY_GOODS</th>       <td> 1.341e-08</td> <td> 1.02e-08</td> <td>    1.316</td> <td> 0.189</td> <td> -6.6e-09</td> <td> 3.34e-08</td>\n",
       "</tr>\n",
       "<tr>\n",
       "  <th>ALCOHOL_PROCDUCTION_SERVICES</th> <td> 1.207e+04</td> <td> 8749.155</td> <td>    1.380</td> <td> 0.168</td> <td>-5108.478</td> <td> 2.93e+04</td>\n",
       "</tr>\n",
       "<tr>\n",
       "  <th>FOOD_HOME</th>                    <td>-2827.2856</td> <td> 1.18e+04</td> <td>   -0.239</td> <td> 0.811</td> <td> -2.6e+04</td> <td> 2.04e+04</td>\n",
       "</tr>\n",
       "<tr>\n",
       "  <th>FOOD_OUTSIDE</th>                 <td> 3507.1645</td> <td> 6789.463</td> <td>    0.517</td> <td> 0.606</td> <td>-9825.841</td> <td> 1.68e+04</td>\n",
       "</tr>\n",
       "<tr>\n",
       "  <th>FOOD</th>                         <td>  679.8788</td> <td> 5245.758</td> <td>    0.130</td> <td> 0.897</td> <td>-9621.630</td> <td>  1.1e+04</td>\n",
       "</tr>\n",
       "<tr>\n",
       "  <th>CLOTH</th>                        <td> 1.323e+04</td> <td> 7875.427</td> <td>    1.680</td> <td> 0.093</td> <td>-2234.183</td> <td> 2.87e+04</td>\n",
       "</tr>\n",
       "<tr>\n",
       "  <th>FURNISHING</th>                   <td> 1.323e+04</td> <td> 7875.478</td> <td>    1.680</td> <td> 0.093</td> <td>-2236.058</td> <td> 2.87e+04</td>\n",
       "</tr>\n",
       "<tr>\n",
       "  <th>HEALTH</th>                       <td> 1.323e+04</td> <td> 7875.496</td> <td>    1.680</td> <td> 0.093</td> <td>-2236.324</td> <td> 2.87e+04</td>\n",
       "</tr>\n",
       "<tr>\n",
       "  <th>HOUSING_WATER</th>                <td> 1.323e+04</td> <td> 7875.499</td> <td>    1.680</td> <td> 0.093</td> <td>-2236.249</td> <td> 2.87e+04</td>\n",
       "</tr>\n",
       "<tr>\n",
       "  <th>ACTRENT</th>                      <td>   -1.7686</td> <td>    0.648</td> <td>   -2.729</td> <td> 0.007</td> <td>   -3.041</td> <td>   -0.496</td>\n",
       "</tr>\n",
       "<tr>\n",
       "  <th>RENTVAL</th>                      <td>    1.3922</td> <td>    0.286</td> <td>    4.867</td> <td> 0.000</td> <td>    0.830</td> <td>    1.954</td>\n",
       "</tr>\n",
       "<tr>\n",
       "  <th>TRANSPORT</th>                    <td> 1.323e+04</td> <td> 7875.487</td> <td>    1.680</td> <td> 0.093</td> <td>-2236.072</td> <td> 2.87e+04</td>\n",
       "</tr>\n",
       "<tr>\n",
       "  <th>COMMUNICATION</th>                <td> 1.323e+04</td> <td> 7875.506</td> <td>    1.680</td> <td> 0.093</td> <td>-2236.157</td> <td> 2.87e+04</td>\n",
       "</tr>\n",
       "<tr>\n",
       "  <th>RECREATION</th>                   <td> 1.323e+04</td> <td> 7875.471</td> <td>    1.680</td> <td> 0.093</td> <td>-2234.620</td> <td> 2.87e+04</td>\n",
       "</tr>\n",
       "<tr>\n",
       "  <th>EDUCATION</th>                    <td> 1.323e+04</td> <td> 7875.494</td> <td>    1.680</td> <td> 0.093</td> <td>-2235.944</td> <td> 2.87e+04</td>\n",
       "</tr>\n",
       "<tr>\n",
       "  <th>INSURANCE</th>                    <td> 1.323e+04</td> <td> 7875.498</td> <td>    1.680</td> <td> 0.093</td> <td>-2235.314</td> <td> 2.87e+04</td>\n",
       "</tr>\n",
       "<tr>\n",
       "  <th>MISCELLANEOUS</th>                <td> 1.323e+04</td> <td> 7875.526</td> <td>    1.680</td> <td> 0.094</td> <td>-2237.907</td> <td> 2.87e+04</td>\n",
       "</tr>\n",
       "<tr>\n",
       "  <th>DURABLE</th>                      <td> 1.323e+04</td> <td> 7875.496</td> <td>    1.680</td> <td> 0.093</td> <td>-2235.905</td> <td> 2.87e+04</td>\n",
       "</tr>\n",
       "<tr>\n",
       "  <th>OCCASION</th>                     <td> 1.323e+04</td> <td> 7875.548</td> <td>    1.680</td> <td> 0.093</td> <td>-2234.108</td> <td> 2.87e+04</td>\n",
       "</tr>\n",
       "<tr>\n",
       "  <th>OTHER_EXPENDITURE</th>            <td> 1.323e+04</td> <td> 7875.478</td> <td>    1.680</td> <td> 0.093</td> <td>-2232.499</td> <td> 2.87e+04</td>\n",
       "</tr>\n",
       "<tr>\n",
       "  <th>OTHER_DISBURSEMENT</th>           <td> 4183.3438</td> <td> 2742.295</td> <td>    1.525</td> <td> 0.128</td> <td>-1201.919</td> <td> 9568.606</td>\n",
       "</tr>\n",
       "<tr>\n",
       "  <th>FOOD_ACCOM_SRVC</th>              <td> 1.324e+04</td> <td> 7875.479</td> <td>    1.681</td> <td> 0.093</td> <td>-2229.803</td> <td> 2.87e+04</td>\n",
       "</tr>\n",
       "<tr>\n",
       "  <th>NFOOD</th>                        <td>-9046.0267</td> <td> 5956.614</td> <td>   -1.519</td> <td> 0.129</td> <td>-2.07e+04</td> <td> 2651.446</td>\n",
       "</tr>\n",
       "<tr>\n",
       "  <th>TOTDIS</th>                       <td>-4182.8041</td> <td> 2742.296</td> <td>   -1.525</td> <td> 0.128</td> <td>-9568.067</td> <td> 1202.459</td>\n",
       "</tr>\n",
       "<tr>\n",
       "  <th>OTHREC</th>                       <td>   -0.5523</td> <td>    0.056</td> <td>   -9.935</td> <td> 0.000</td> <td>   -0.661</td> <td>   -0.443</td>\n",
       "</tr>\n",
       "<tr>\n",
       "  <th>URB</th>                          <td>-1.986e+04</td> <td> 2.49e+04</td> <td>   -0.796</td> <td> 0.426</td> <td>-6.88e+04</td> <td> 2.91e+04</td>\n",
       "</tr>\n",
       "<tr>\n",
       "  <th>RPROV</th>                        <td>   90.6057</td> <td>   85.665</td> <td>    1.058</td> <td> 0.291</td> <td>  -77.621</td> <td>  258.832</td>\n",
       "</tr>\n",
       "<tr>\n",
       "  <th>RPSU</th>                         <td> 1322.3432</td> <td> 1315.193</td> <td>    1.005</td> <td> 0.315</td> <td>-1260.406</td> <td> 3905.092</td>\n",
       "</tr>\n",
       "<tr>\n",
       "  <th>BWEIGHT</th>                      <td> 1.379e+05</td> <td> 5.85e+04</td> <td>    2.357</td> <td> 0.019</td> <td>  2.3e+04</td> <td> 2.53e+05</td>\n",
       "</tr>\n",
       "<tr>\n",
       "  <th>RFACT_POP</th>                    <td>-1.233e+05</td> <td>  4.9e+04</td> <td>   -2.518</td> <td> 0.012</td> <td>-2.19e+05</td> <td>-2.71e+04</td>\n",
       "</tr>\n",
       "</table>\n",
       "<table class=\"simpletable\">\n",
       "<tr>\n",
       "  <th>Omnibus:</th>       <td>217.796</td> <th>  Durbin-Watson:     </th> <td>   1.868</td>\n",
       "</tr>\n",
       "<tr>\n",
       "  <th>Prob(Omnibus):</th> <td> 0.000</td>  <th>  Jarque-Bera (JB):  </th> <td>1435.515</td>\n",
       "</tr>\n",
       "<tr>\n",
       "  <th>Skew:</th>          <td> 1.285</td>  <th>  Prob(JB):          </th> <td>    0.00</td>\n",
       "</tr>\n",
       "<tr>\n",
       "  <th>Kurtosis:</th>      <td> 9.694</td>  <th>  Cond. No.          </th> <td>1.66e+16</td>\n",
       "</tr>\n",
       "</table><br/><br/>Notes:<br/>[1] Standard Errors assume that the covariance matrix of the errors is correctly specified.<br/>[2] The smallest eigenvalue is 3.07e-18. This might indicate that there are<br/>strong multicollinearity problems or that the design matrix is singular."
      ],
      "text/latex": [
       "\\begin{center}\n",
       "\\begin{tabular}{lclc}\n",
       "\\toprule\n",
       "\\textbf{Dep. Variable:}                 &      TOINC       & \\textbf{  R-squared:         } &     0.798   \\\\\n",
       "\\textbf{Model:}                         &       OLS        & \\textbf{  Adj. R-squared:    } &     0.783   \\\\\n",
       "\\textbf{Method:}                        &  Least Squares   & \\textbf{  F-statistic:       } &     53.62   \\\\\n",
       "\\textbf{Date:}                          & Wed, 06 Dec 2023 & \\textbf{  Prob (F-statistic):} & 2.45e-185   \\\\\n",
       "\\textbf{Time:}                          &     14:42:57     & \\textbf{  Log-Likelihood:    } &   -9051.5   \\\\\n",
       "\\textbf{No. Observations:}              &         670      & \\textbf{  AIC:               } & 1.820e+04   \\\\\n",
       "\\textbf{Df Residuals:}                  &         623      & \\textbf{  BIC:               } & 1.841e+04   \\\\\n",
       "\\textbf{Df Model:}                      &          46      & \\textbf{                     } &             \\\\\n",
       "\\textbf{Covariance Type:}               &    nonrobust     & \\textbf{                     } &             \\\\\n",
       "\\bottomrule\n",
       "\\end{tabular}\n",
       "\\begin{tabular}{lcccccc}\n",
       "                                        & \\textbf{coef} & \\textbf{std err} & \\textbf{t} & \\textbf{P$> |$t$|$} & \\textbf{[0.025} & \\textbf{0.975]}  \\\\\n",
       "\\midrule\n",
       "\\textbf{FSIZE}                          &    2.046e+04  &     5408.577     &     3.782  &         0.000        &     9835.226    &     3.11e+04     \\\\\n",
       "\\textbf{LOSSES}                         &    9.951e-07  &     4.75e-07     &     2.094  &         0.037        &     6.18e-08    &     1.93e-06     \\\\\n",
       "\\textbf{BREAD}                          &    6330.6692  &     1.85e+04     &     0.341  &         0.733        &    -3.01e+04    &     4.28e+04     \\\\\n",
       "\\textbf{MEAT}                           &    6332.5107  &     1.85e+04     &     0.341  &         0.733        &    -3.01e+04    &     4.28e+04     \\\\\n",
       "\\textbf{FISH}                           &    6331.4626  &     1.85e+04     &     0.341  &         0.733        &    -3.01e+04    &     4.28e+04     \\\\\n",
       "\\textbf{MILK}                           &    6329.3840  &     1.85e+04     &     0.341  &         0.733        &    -3.01e+04    &     4.28e+04     \\\\\n",
       "\\textbf{OIL}                            &    6331.5913  &     1.85e+04     &     0.341  &         0.733        &    -3.01e+04    &     4.28e+04     \\\\\n",
       "\\textbf{FRUIT}                          &    6330.2833  &     1.85e+04     &     0.341  &         0.733        &    -3.01e+04    &     4.28e+04     \\\\\n",
       "\\textbf{VEG}                            &    6330.0492  &     1.85e+04     &     0.341  &         0.733        &    -3.01e+04    &     4.28e+04     \\\\\n",
       "\\textbf{SUGAR}                          &    6324.7364  &     1.85e+04     &     0.341  &         0.733        &    -3.01e+04    &     4.28e+04     \\\\\n",
       "\\textbf{FOOD\\_NEC}                      &    6332.0134  &     1.85e+04     &     0.341  &         0.733        &    -3.01e+04    &     4.28e+04     \\\\\n",
       "\\textbf{FRUIT\\_VEG}                     &    6318.0851  &     1.85e+04     &     0.341  &         0.734        &    -3.01e+04    &     4.27e+04     \\\\\n",
       "\\textbf{COFFEE}                         &    6327.8794  &     1.85e+04     &     0.341  &         0.733        &    -3.01e+04    &     4.28e+04     \\\\\n",
       "\\textbf{TEA}                            &    6322.0343  &     1.85e+04     &     0.341  &         0.733        &    -3.01e+04    &     4.27e+04     \\\\\n",
       "\\textbf{COCOA}                          &    6328.3891  &     1.85e+04     &     0.341  &         0.733        &    -3.01e+04    &     4.28e+04     \\\\\n",
       "\\textbf{WATER}                          &    6328.5434  &     1.85e+04     &     0.341  &         0.733        &    -3.01e+04    &     4.28e+04     \\\\\n",
       "\\textbf{SOFTDRINKS}                     &    6346.3548  &     1.85e+04     &     0.342  &         0.732        &    -3.01e+04    &     4.28e+04     \\\\\n",
       "\\textbf{OTHER\\_NON\\_ALCOHOL}            &     -25.9298  &       21.530     &    -1.204  &         0.229        &      -68.209    &       16.350     \\\\\n",
       "\\textbf{ALCOHOL}                        &    1.323e+04  &     7875.509     &     1.680  &         0.094        &    -2237.080    &     2.87e+04     \\\\\n",
       "\\textbf{TOBACCO}                        &    1.323e+04  &     7875.423     &     1.680  &         0.093        &    -2233.783    &     2.87e+04     \\\\\n",
       "\\textbf{OTHER\\_VEG}                     &    1.323e+04  &     7875.818     &     1.680  &         0.093        &    -2232.277    &     2.87e+04     \\\\\n",
       "\\textbf{SERVICES\\_PRIMARY\\_GOODS}       &    1.341e-08  &     1.02e-08     &     1.316  &         0.189        &     -6.6e-09    &     3.34e-08     \\\\\n",
       "\\textbf{ALCOHOL\\_PROCDUCTION\\_SERVICES} &    1.207e+04  &     8749.155     &     1.380  &         0.168        &    -5108.478    &     2.93e+04     \\\\\n",
       "\\textbf{FOOD\\_HOME}                     &   -2827.2856  &     1.18e+04     &    -0.239  &         0.811        &     -2.6e+04    &     2.04e+04     \\\\\n",
       "\\textbf{FOOD\\_OUTSIDE}                  &    3507.1645  &     6789.463     &     0.517  &         0.606        &    -9825.841    &     1.68e+04     \\\\\n",
       "\\textbf{FOOD}                           &     679.8788  &     5245.758     &     0.130  &         0.897        &    -9621.630    &      1.1e+04     \\\\\n",
       "\\textbf{CLOTH}                          &    1.323e+04  &     7875.427     &     1.680  &         0.093        &    -2234.183    &     2.87e+04     \\\\\n",
       "\\textbf{FURNISHING}                     &    1.323e+04  &     7875.478     &     1.680  &         0.093        &    -2236.058    &     2.87e+04     \\\\\n",
       "\\textbf{HEALTH}                         &    1.323e+04  &     7875.496     &     1.680  &         0.093        &    -2236.324    &     2.87e+04     \\\\\n",
       "\\textbf{HOUSING\\_WATER}                 &    1.323e+04  &     7875.499     &     1.680  &         0.093        &    -2236.249    &     2.87e+04     \\\\\n",
       "\\textbf{ACTRENT}                        &      -1.7686  &        0.648     &    -2.729  &         0.007        &       -3.041    &       -0.496     \\\\\n",
       "\\textbf{RENTVAL}                        &       1.3922  &        0.286     &     4.867  &         0.000        &        0.830    &        1.954     \\\\\n",
       "\\textbf{TRANSPORT}                      &    1.323e+04  &     7875.487     &     1.680  &         0.093        &    -2236.072    &     2.87e+04     \\\\\n",
       "\\textbf{COMMUNICATION}                  &    1.323e+04  &     7875.506     &     1.680  &         0.093        &    -2236.157    &     2.87e+04     \\\\\n",
       "\\textbf{RECREATION}                     &    1.323e+04  &     7875.471     &     1.680  &         0.093        &    -2234.620    &     2.87e+04     \\\\\n",
       "\\textbf{EDUCATION}                      &    1.323e+04  &     7875.494     &     1.680  &         0.093        &    -2235.944    &     2.87e+04     \\\\\n",
       "\\textbf{INSURANCE}                      &    1.323e+04  &     7875.498     &     1.680  &         0.093        &    -2235.314    &     2.87e+04     \\\\\n",
       "\\textbf{MISCELLANEOUS}                  &    1.323e+04  &     7875.526     &     1.680  &         0.094        &    -2237.907    &     2.87e+04     \\\\\n",
       "\\textbf{DURABLE}                        &    1.323e+04  &     7875.496     &     1.680  &         0.093        &    -2235.905    &     2.87e+04     \\\\\n",
       "\\textbf{OCCASION}                       &    1.323e+04  &     7875.548     &     1.680  &         0.093        &    -2234.108    &     2.87e+04     \\\\\n",
       "\\textbf{OTHER\\_EXPENDITURE}             &    1.323e+04  &     7875.478     &     1.680  &         0.093        &    -2232.499    &     2.87e+04     \\\\\n",
       "\\textbf{OTHER\\_DISBURSEMENT}            &    4183.3438  &     2742.295     &     1.525  &         0.128        &    -1201.919    &     9568.606     \\\\\n",
       "\\textbf{FOOD\\_ACCOM\\_SRVC}              &    1.324e+04  &     7875.479     &     1.681  &         0.093        &    -2229.803    &     2.87e+04     \\\\\n",
       "\\textbf{NFOOD}                          &   -9046.0267  &     5956.614     &    -1.519  &         0.129        &    -2.07e+04    &     2651.446     \\\\\n",
       "\\textbf{TOTDIS}                         &   -4182.8041  &     2742.296     &    -1.525  &         0.128        &    -9568.067    &     1202.459     \\\\\n",
       "\\textbf{OTHREC}                         &      -0.5523  &        0.056     &    -9.935  &         0.000        &       -0.661    &       -0.443     \\\\\n",
       "\\textbf{URB}                            &   -1.986e+04  &     2.49e+04     &    -0.796  &         0.426        &    -6.88e+04    &     2.91e+04     \\\\\n",
       "\\textbf{RPROV}                          &      90.6057  &       85.665     &     1.058  &         0.291        &      -77.621    &      258.832     \\\\\n",
       "\\textbf{RPSU}                           &    1322.3432  &     1315.193     &     1.005  &         0.315        &    -1260.406    &     3905.092     \\\\\n",
       "\\textbf{BWEIGHT}                        &    1.379e+05  &     5.85e+04     &     2.357  &         0.019        &      2.3e+04    &     2.53e+05     \\\\\n",
       "\\textbf{RFACT\\_POP}                     &   -1.233e+05  &      4.9e+04     &    -2.518  &         0.012        &    -2.19e+05    &    -2.71e+04     \\\\\n",
       "\\bottomrule\n",
       "\\end{tabular}\n",
       "\\begin{tabular}{lclc}\n",
       "\\textbf{Omnibus:}       & 217.796 & \\textbf{  Durbin-Watson:     } &    1.868  \\\\\n",
       "\\textbf{Prob(Omnibus):} &   0.000 & \\textbf{  Jarque-Bera (JB):  } & 1435.515  \\\\\n",
       "\\textbf{Skew:}          &   1.285 & \\textbf{  Prob(JB):          } &     0.00  \\\\\n",
       "\\textbf{Kurtosis:}      &   9.694 & \\textbf{  Cond. No.          } & 1.66e+16  \\\\\n",
       "\\bottomrule\n",
       "\\end{tabular}\n",
       "%\\caption{OLS Regression Results}\n",
       "\\end{center}\n",
       "\n",
       "Notes: \\newline\n",
       " [1] Standard Errors assume that the covariance matrix of the errors is correctly specified. \\newline\n",
       " [2] The smallest eigenvalue is 3.07e-18. This might indicate that there are \\newline\n",
       " strong multicollinearity problems or that the design matrix is singular."
      ],
      "text/plain": [
       "<class 'statsmodels.iolib.summary.Summary'>\n",
       "\"\"\"\n",
       "                            OLS Regression Results                            \n",
       "==============================================================================\n",
       "Dep. Variable:                  TOINC   R-squared:                       0.798\n",
       "Model:                            OLS   Adj. R-squared:                  0.783\n",
       "Method:                 Least Squares   F-statistic:                     53.62\n",
       "Date:                Wed, 06 Dec 2023   Prob (F-statistic):          2.45e-185\n",
       "Time:                        14:42:57   Log-Likelihood:                -9051.5\n",
       "No. Observations:                 670   AIC:                         1.820e+04\n",
       "Df Residuals:                     623   BIC:                         1.841e+04\n",
       "Df Model:                          46                                         \n",
       "Covariance Type:            nonrobust                                         \n",
       "================================================================================================\n",
       "                                   coef    std err          t      P>|t|      [0.025      0.975]\n",
       "------------------------------------------------------------------------------------------------\n",
       "FSIZE                         2.046e+04   5408.577      3.782      0.000    9835.226    3.11e+04\n",
       "LOSSES                        9.951e-07   4.75e-07      2.094      0.037    6.18e-08    1.93e-06\n",
       "BREAD                         6330.6692   1.85e+04      0.341      0.733   -3.01e+04    4.28e+04\n",
       "MEAT                          6332.5107   1.85e+04      0.341      0.733   -3.01e+04    4.28e+04\n",
       "FISH                          6331.4626   1.85e+04      0.341      0.733   -3.01e+04    4.28e+04\n",
       "MILK                          6329.3840   1.85e+04      0.341      0.733   -3.01e+04    4.28e+04\n",
       "OIL                           6331.5913   1.85e+04      0.341      0.733   -3.01e+04    4.28e+04\n",
       "FRUIT                         6330.2833   1.85e+04      0.341      0.733   -3.01e+04    4.28e+04\n",
       "VEG                           6330.0492   1.85e+04      0.341      0.733   -3.01e+04    4.28e+04\n",
       "SUGAR                         6324.7364   1.85e+04      0.341      0.733   -3.01e+04    4.28e+04\n",
       "FOOD_NEC                      6332.0134   1.85e+04      0.341      0.733   -3.01e+04    4.28e+04\n",
       "FRUIT_VEG                     6318.0851   1.85e+04      0.341      0.734   -3.01e+04    4.27e+04\n",
       "COFFEE                        6327.8794   1.85e+04      0.341      0.733   -3.01e+04    4.28e+04\n",
       "TEA                           6322.0343   1.85e+04      0.341      0.733   -3.01e+04    4.27e+04\n",
       "COCOA                         6328.3891   1.85e+04      0.341      0.733   -3.01e+04    4.28e+04\n",
       "WATER                         6328.5434   1.85e+04      0.341      0.733   -3.01e+04    4.28e+04\n",
       "SOFTDRINKS                    6346.3548   1.85e+04      0.342      0.732   -3.01e+04    4.28e+04\n",
       "OTHER_NON_ALCOHOL              -25.9298     21.530     -1.204      0.229     -68.209      16.350\n",
       "ALCOHOL                       1.323e+04   7875.509      1.680      0.094   -2237.080    2.87e+04\n",
       "TOBACCO                       1.323e+04   7875.423      1.680      0.093   -2233.783    2.87e+04\n",
       "OTHER_VEG                     1.323e+04   7875.818      1.680      0.093   -2232.277    2.87e+04\n",
       "SERVICES_PRIMARY_GOODS        1.341e-08   1.02e-08      1.316      0.189    -6.6e-09    3.34e-08\n",
       "ALCOHOL_PROCDUCTION_SERVICES  1.207e+04   8749.155      1.380      0.168   -5108.478    2.93e+04\n",
       "FOOD_HOME                    -2827.2856   1.18e+04     -0.239      0.811    -2.6e+04    2.04e+04\n",
       "FOOD_OUTSIDE                  3507.1645   6789.463      0.517      0.606   -9825.841    1.68e+04\n",
       "FOOD                           679.8788   5245.758      0.130      0.897   -9621.630     1.1e+04\n",
       "CLOTH                         1.323e+04   7875.427      1.680      0.093   -2234.183    2.87e+04\n",
       "FURNISHING                    1.323e+04   7875.478      1.680      0.093   -2236.058    2.87e+04\n",
       "HEALTH                        1.323e+04   7875.496      1.680      0.093   -2236.324    2.87e+04\n",
       "HOUSING_WATER                 1.323e+04   7875.499      1.680      0.093   -2236.249    2.87e+04\n",
       "ACTRENT                         -1.7686      0.648     -2.729      0.007      -3.041      -0.496\n",
       "RENTVAL                          1.3922      0.286      4.867      0.000       0.830       1.954\n",
       "TRANSPORT                     1.323e+04   7875.487      1.680      0.093   -2236.072    2.87e+04\n",
       "COMMUNICATION                 1.323e+04   7875.506      1.680      0.093   -2236.157    2.87e+04\n",
       "RECREATION                    1.323e+04   7875.471      1.680      0.093   -2234.620    2.87e+04\n",
       "EDUCATION                     1.323e+04   7875.494      1.680      0.093   -2235.944    2.87e+04\n",
       "INSURANCE                     1.323e+04   7875.498      1.680      0.093   -2235.314    2.87e+04\n",
       "MISCELLANEOUS                 1.323e+04   7875.526      1.680      0.094   -2237.907    2.87e+04\n",
       "DURABLE                       1.323e+04   7875.496      1.680      0.093   -2235.905    2.87e+04\n",
       "OCCASION                      1.323e+04   7875.548      1.680      0.093   -2234.108    2.87e+04\n",
       "OTHER_EXPENDITURE             1.323e+04   7875.478      1.680      0.093   -2232.499    2.87e+04\n",
       "OTHER_DISBURSEMENT            4183.3438   2742.295      1.525      0.128   -1201.919    9568.606\n",
       "FOOD_ACCOM_SRVC               1.324e+04   7875.479      1.681      0.093   -2229.803    2.87e+04\n",
       "NFOOD                        -9046.0267   5956.614     -1.519      0.129   -2.07e+04    2651.446\n",
       "TOTDIS                       -4182.8041   2742.296     -1.525      0.128   -9568.067    1202.459\n",
       "OTHREC                          -0.5523      0.056     -9.935      0.000      -0.661      -0.443\n",
       "URB                          -1.986e+04   2.49e+04     -0.796      0.426   -6.88e+04    2.91e+04\n",
       "RPROV                           90.6057     85.665      1.058      0.291     -77.621     258.832\n",
       "RPSU                          1322.3432   1315.193      1.005      0.315   -1260.406    3905.092\n",
       "BWEIGHT                       1.379e+05   5.85e+04      2.357      0.019     2.3e+04    2.53e+05\n",
       "RFACT_POP                    -1.233e+05    4.9e+04     -2.518      0.012   -2.19e+05   -2.71e+04\n",
       "==============================================================================\n",
       "Omnibus:                      217.796   Durbin-Watson:                   1.868\n",
       "Prob(Omnibus):                  0.000   Jarque-Bera (JB):             1435.515\n",
       "Skew:                           1.285   Prob(JB):                         0.00\n",
       "Kurtosis:                       9.694   Cond. No.                     1.66e+16\n",
       "==============================================================================\n",
       "\n",
       "Notes:\n",
       "[1] Standard Errors assume that the covariance matrix of the errors is correctly specified.\n",
       "[2] The smallest eigenvalue is 3.07e-18. This might indicate that there are\n",
       "strong multicollinearity problems or that the design matrix is singular.\n",
       "\"\"\""
      ]
     },
     "execution_count": 53,
     "metadata": {},
     "output_type": "execute_result"
    }
   ],
   "source": [
    "df_prov_max_X, df_prov_max_y, model_max = df_prov_X_y(df_fies_2021_filtered, data_difference_income, max_inc_prov=True)\n",
    "df_prov_max_X = sm.add_constant(df_prov_max_X)\n",
    "model_max = sm.OLS(df_prov_max_y, df_prov_max_X).fit()\n",
    "model_max.summary()"
   ]
  },
  {
   "cell_type": "code",
   "execution_count": 54,
   "id": "96cf5692-1912-4abe-a43c-08c8df5be2e0",
   "metadata": {
    "execution": {
     "iopub.execute_input": "2023-12-06T14:43:13.289002Z",
     "iopub.status.busy": "2023-12-06T14:43:13.288011Z",
     "iopub.status.idle": "2023-12-06T14:43:13.308770Z",
     "shell.execute_reply": "2023-12-06T14:43:13.304796Z",
     "shell.execute_reply.started": "2023-12-06T14:43:13.288902Z"
    },
    "tags": []
   },
   "outputs": [],
   "source": [
    "def lasso_reg(df_prov_X, df_prov_y, alpha, max_iter, to_drop):\n",
    "    X_train, X_test, y_train, y_test = train_test_split(df_prov_X, df_prov_y, test_size=0.2, random_state=42)\n",
    "    df_prov_X_ = df_prov_X\n",
    "    lasso2 = Lasso(alpha=alpha, max_iter=max_iter).fit(X_train, y_train)\n",
    "    true_indices = np.where(lasso2.coef_ != 0)[0]\n",
    "    df_prov_X_ = df_prov_X_.iloc[:, true_indices]\n",
    "    df_prov_X_ = df_prov_X_.drop(to_drop, axis=1)\n",
    "    return df_prov_X_"
   ]
  },
  {
   "cell_type": "code",
   "execution_count": 55,
   "id": "6496bc85-d0de-4322-ac06-2e3d1219eea5",
   "metadata": {
    "execution": {
     "iopub.execute_input": "2023-12-06T14:43:21.219657Z",
     "iopub.status.busy": "2023-12-06T14:43:21.219140Z",
     "iopub.status.idle": "2023-12-06T14:43:21.523348Z",
     "shell.execute_reply": "2023-12-06T14:43:21.520594Z",
     "shell.execute_reply.started": "2023-12-06T14:43:21.219614Z"
    },
    "tags": []
   },
   "outputs": [
    {
     "name": "stdout",
     "output_type": "stream",
     "text": [
      "training set score: 0.739351\n",
      "test set score: 0.611879\n",
      "number of features used: 6\n"
     ]
    }
   ],
   "source": [
    "#Tuning Lasso Regularization\n",
    "df_prov_max_X, df_prov_max_y, model_max = df_prov_X_y(df_fies_2021_filtered, data_difference_income, max_inc_prov=True)\n",
    "df_prov_max_X = sm.add_constant(df_prov_max_X)\n",
    "alpha=1000000000\n",
    "max_iter=10000000\n",
    "to_drop = 'RENTVAL'\n",
    "df_prov_max_X_ = lasso_reg(df_prov_max_X, df_prov_max_y, alpha, max_iter, to_drop)"
   ]
  },
  {
   "cell_type": "code",
   "execution_count": 56,
   "id": "21d35b99-eb91-469d-8aed-b99004c33425",
   "metadata": {
    "execution": {
     "iopub.execute_input": "2023-12-06T14:43:32.322677Z",
     "iopub.status.busy": "2023-12-06T14:43:32.322153Z",
     "iopub.status.idle": "2023-12-06T14:43:32.331697Z",
     "shell.execute_reply": "2023-12-06T14:43:32.330123Z",
     "shell.execute_reply.started": "2023-12-06T14:43:32.322631Z"
    },
    "tags": []
   },
   "outputs": [],
   "source": [
    "df_prov_max_X_ = np.power(df_prov_max_X_, 1/3)\n",
    "df_prov_max_y_ = np.power(df_prov_max_y, 1/3)"
   ]
  },
  {
   "cell_type": "code",
   "execution_count": 57,
   "id": "82f91160-ce61-447f-bfec-23eaa1ae22cc",
   "metadata": {
    "execution": {
     "iopub.execute_input": "2023-12-06T14:43:44.792147Z",
     "iopub.status.busy": "2023-12-06T14:43:44.791709Z",
     "iopub.status.idle": "2023-12-06T14:43:44.844060Z",
     "shell.execute_reply": "2023-12-06T14:43:44.843171Z",
     "shell.execute_reply.started": "2023-12-06T14:43:44.792109Z"
    },
    "tags": []
   },
   "outputs": [
    {
     "data": {
      "text/html": [
       "<table class=\"simpletable\">\n",
       "<caption>OLS Regression Results</caption>\n",
       "<tr>\n",
       "  <th>Dep. Variable:</th>          <td>TOINC</td>      <th>  R-squared (uncentered):</th>      <td>   0.988</td> \n",
       "</tr>\n",
       "<tr>\n",
       "  <th>Model:</th>                   <td>OLS</td>       <th>  Adj. R-squared (uncentered):</th> <td>   0.988</td> \n",
       "</tr>\n",
       "<tr>\n",
       "  <th>Method:</th>             <td>Least Squares</td>  <th>  F-statistic:       </th>          <td>1.066e+04</td>\n",
       "</tr>\n",
       "<tr>\n",
       "  <th>Date:</th>             <td>Wed, 06 Dec 2023</td> <th>  Prob (F-statistic):</th>           <td>  0.00</td>  \n",
       "</tr>\n",
       "<tr>\n",
       "  <th>Time:</th>                 <td>14:43:44</td>     <th>  Log-Likelihood:    </th>          <td> -2366.4</td> \n",
       "</tr>\n",
       "<tr>\n",
       "  <th>No. Observations:</th>      <td>   670</td>      <th>  AIC:               </th>          <td>   4743.</td> \n",
       "</tr>\n",
       "<tr>\n",
       "  <th>Df Residuals:</th>          <td>   665</td>      <th>  BIC:               </th>          <td>   4765.</td> \n",
       "</tr>\n",
       "<tr>\n",
       "  <th>Df Model:</th>              <td>     5</td>      <th>                     </th>              <td> </td>    \n",
       "</tr>\n",
       "<tr>\n",
       "  <th>Covariance Type:</th>      <td>nonrobust</td>    <th>                     </th>              <td> </td>    \n",
       "</tr>\n",
       "</table>\n",
       "<table class=\"simpletable\">\n",
       "<tr>\n",
       "          <td></td>             <th>coef</th>     <th>std err</th>      <th>t</th>      <th>P>|t|</th>  <th>[0.025</th>    <th>0.975]</th>  \n",
       "</tr>\n",
       "<tr>\n",
       "  <th>FOOD</th>              <td>    0.2876</td> <td>    0.045</td> <td>    6.406</td> <td> 0.000</td> <td>    0.199</td> <td>    0.376</td>\n",
       "</tr>\n",
       "<tr>\n",
       "  <th>OTHER_EXPENDITURE</th> <td>    0.2761</td> <td>    0.042</td> <td>    6.519</td> <td> 0.000</td> <td>    0.193</td> <td>    0.359</td>\n",
       "</tr>\n",
       "<tr>\n",
       "  <th>NFOOD</th>             <td>    0.3376</td> <td>    0.049</td> <td>    6.894</td> <td> 0.000</td> <td>    0.241</td> <td>    0.434</td>\n",
       "</tr>\n",
       "<tr>\n",
       "  <th>TOTDIS</th>            <td>    0.5566</td> <td>    0.045</td> <td>   12.435</td> <td> 0.000</td> <td>    0.469</td> <td>    0.645</td>\n",
       "</tr>\n",
       "<tr>\n",
       "  <th>OTHREC</th>            <td>   -0.1464</td> <td>    0.019</td> <td>   -7.835</td> <td> 0.000</td> <td>   -0.183</td> <td>   -0.110</td>\n",
       "</tr>\n",
       "</table>\n",
       "<table class=\"simpletable\">\n",
       "<tr>\n",
       "  <th>Omnibus:</th>       <td>42.869</td> <th>  Durbin-Watson:     </th> <td>   1.767</td>\n",
       "</tr>\n",
       "<tr>\n",
       "  <th>Prob(Omnibus):</th> <td> 0.000</td> <th>  Jarque-Bera (JB):  </th> <td>  58.818</td>\n",
       "</tr>\n",
       "<tr>\n",
       "  <th>Skew:</th>          <td> 0.529</td> <th>  Prob(JB):          </th> <td>1.69e-13</td>\n",
       "</tr>\n",
       "<tr>\n",
       "  <th>Kurtosis:</th>      <td> 3.994</td> <th>  Cond. No.          </th> <td>    20.2</td>\n",
       "</tr>\n",
       "</table><br/><br/>Notes:<br/>[1] R² is computed without centering (uncentered) since the model does not contain a constant.<br/>[2] Standard Errors assume that the covariance matrix of the errors is correctly specified."
      ],
      "text/latex": [
       "\\begin{center}\n",
       "\\begin{tabular}{lclc}\n",
       "\\toprule\n",
       "\\textbf{Dep. Variable:}     &      TOINC       & \\textbf{  R-squared (uncentered):}      &     0.988   \\\\\n",
       "\\textbf{Model:}             &       OLS        & \\textbf{  Adj. R-squared (uncentered):} &     0.988   \\\\\n",
       "\\textbf{Method:}            &  Least Squares   & \\textbf{  F-statistic:       }          & 1.066e+04   \\\\\n",
       "\\textbf{Date:}              & Wed, 06 Dec 2023 & \\textbf{  Prob (F-statistic):}          &     0.00    \\\\\n",
       "\\textbf{Time:}              &     14:43:44     & \\textbf{  Log-Likelihood:    }          &   -2366.4   \\\\\n",
       "\\textbf{No. Observations:}  &         670      & \\textbf{  AIC:               }          &     4743.   \\\\\n",
       "\\textbf{Df Residuals:}      &         665      & \\textbf{  BIC:               }          &     4765.   \\\\\n",
       "\\textbf{Df Model:}          &           5      & \\textbf{                     }          &             \\\\\n",
       "\\textbf{Covariance Type:}   &    nonrobust     & \\textbf{                     }          &             \\\\\n",
       "\\bottomrule\n",
       "\\end{tabular}\n",
       "\\begin{tabular}{lcccccc}\n",
       "                            & \\textbf{coef} & \\textbf{std err} & \\textbf{t} & \\textbf{P$> |$t$|$} & \\textbf{[0.025} & \\textbf{0.975]}  \\\\\n",
       "\\midrule\n",
       "\\textbf{FOOD}               &       0.2876  &        0.045     &     6.406  &         0.000        &        0.199    &        0.376     \\\\\n",
       "\\textbf{OTHER\\_EXPENDITURE} &       0.2761  &        0.042     &     6.519  &         0.000        &        0.193    &        0.359     \\\\\n",
       "\\textbf{NFOOD}              &       0.3376  &        0.049     &     6.894  &         0.000        &        0.241    &        0.434     \\\\\n",
       "\\textbf{TOTDIS}             &       0.5566  &        0.045     &    12.435  &         0.000        &        0.469    &        0.645     \\\\\n",
       "\\textbf{OTHREC}             &      -0.1464  &        0.019     &    -7.835  &         0.000        &       -0.183    &       -0.110     \\\\\n",
       "\\bottomrule\n",
       "\\end{tabular}\n",
       "\\begin{tabular}{lclc}\n",
       "\\textbf{Omnibus:}       & 42.869 & \\textbf{  Durbin-Watson:     } &    1.767  \\\\\n",
       "\\textbf{Prob(Omnibus):} &  0.000 & \\textbf{  Jarque-Bera (JB):  } &   58.818  \\\\\n",
       "\\textbf{Skew:}          &  0.529 & \\textbf{  Prob(JB):          } & 1.69e-13  \\\\\n",
       "\\textbf{Kurtosis:}      &  3.994 & \\textbf{  Cond. No.          } &     20.2  \\\\\n",
       "\\bottomrule\n",
       "\\end{tabular}\n",
       "%\\caption{OLS Regression Results}\n",
       "\\end{center}\n",
       "\n",
       "Notes: \\newline\n",
       " [1] R² is computed without centering (uncentered) since the model does not contain a constant. \\newline\n",
       " [2] Standard Errors assume that the covariance matrix of the errors is correctly specified."
      ],
      "text/plain": [
       "<class 'statsmodels.iolib.summary.Summary'>\n",
       "\"\"\"\n",
       "                                 OLS Regression Results                                \n",
       "=======================================================================================\n",
       "Dep. Variable:                  TOINC   R-squared (uncentered):                   0.988\n",
       "Model:                            OLS   Adj. R-squared (uncentered):              0.988\n",
       "Method:                 Least Squares   F-statistic:                          1.066e+04\n",
       "Date:                Wed, 06 Dec 2023   Prob (F-statistic):                        0.00\n",
       "Time:                        14:43:44   Log-Likelihood:                         -2366.4\n",
       "No. Observations:                 670   AIC:                                      4743.\n",
       "Df Residuals:                     665   BIC:                                      4765.\n",
       "Df Model:                           5                                                  \n",
       "Covariance Type:            nonrobust                                                  \n",
       "=====================================================================================\n",
       "                        coef    std err          t      P>|t|      [0.025      0.975]\n",
       "-------------------------------------------------------------------------------------\n",
       "FOOD                  0.2876      0.045      6.406      0.000       0.199       0.376\n",
       "OTHER_EXPENDITURE     0.2761      0.042      6.519      0.000       0.193       0.359\n",
       "NFOOD                 0.3376      0.049      6.894      0.000       0.241       0.434\n",
       "TOTDIS                0.5566      0.045     12.435      0.000       0.469       0.645\n",
       "OTHREC               -0.1464      0.019     -7.835      0.000      -0.183      -0.110\n",
       "==============================================================================\n",
       "Omnibus:                       42.869   Durbin-Watson:                   1.767\n",
       "Prob(Omnibus):                  0.000   Jarque-Bera (JB):               58.818\n",
       "Skew:                           0.529   Prob(JB):                     1.69e-13\n",
       "Kurtosis:                       3.994   Cond. No.                         20.2\n",
       "==============================================================================\n",
       "\n",
       "Notes:\n",
       "[1] R² is computed without centering (uncentered) since the model does not contain a constant.\n",
       "[2] Standard Errors assume that the covariance matrix of the errors is correctly specified.\n",
       "\"\"\""
      ]
     },
     "execution_count": 57,
     "metadata": {},
     "output_type": "execute_result"
    }
   ],
   "source": [
    "# X_train = sm.add_constant(X_train)\n",
    "model_max_tf = sm.OLS(df_prov_max_y_, df_prov_max_X_).fit()\n",
    "model_max_tf.summary()"
   ]
  },
  {
   "cell_type": "markdown",
   "id": "de4ebf15-b951-4949-8dfd-695e7f0b6406",
   "metadata": {},
   "source": [
    "After excluding multicollinear independent variables via conducting lasso regressione and conducting transformation on the values, the R-squared is <b>0.972</b>, a value equal to the Adjusted R-squared, suggesting successful removal of multicollinear independent variables.\n",
    "\n",
    "Furthermore, only <b>5 independent variables</b> can explain 97.2% of the variability in income."
   ]
  },
  {
   "cell_type": "markdown",
   "id": "15482011-ca1a-454c-ac26-b63a7c0f82ff",
   "metadata": {},
   "source": [
    "The produce points aligned closely along a diagonal line, indicating that the predicted values are close to the observed values. This also indicates great performance of linear model.\n",
    "\n",
    "In the theoretrical quantiles vs sample quantiles, the datapoints fit well with the theoretrical distribution."
   ]
  },
  {
   "cell_type": "code",
   "execution_count": 120,
   "id": "bcdf6442-ab19-4f21-b4f6-b2ba665891dc",
   "metadata": {
    "execution": {
     "iopub.execute_input": "2023-12-06T15:42:52.417451Z",
     "iopub.status.busy": "2023-12-06T15:42:52.416714Z",
     "iopub.status.idle": "2023-12-06T15:42:53.118458Z",
     "shell.execute_reply": "2023-12-06T15:42:53.117694Z",
     "shell.execute_reply.started": "2023-12-06T15:42:52.417388Z"
    },
    "tags": []
   },
   "outputs": [
    {
     "data": {
      "image/png": "[encoded data removed]",
      "text/plain": [
       "<Figure size 640x480 with 1 Axes>"
      ]
     },
     "metadata": {},
     "output_type": "display_data"
    },
    {
     "data": {
      "image/png": "[encoded data removed]",
      "text/plain": [
       "<Figure size 640x480 with 1 Axes>"
      ]
     },
     "metadata": {},
     "output_type": "display_data"
    },
    {
     "data": {
      "image/png": "[encoded data removed]",
      "text/plain": [
       "<Figure size 640x480 with 1 Axes>"
      ]
     },
     "metadata": {},
     "output_type": "display_data"
    }
   ],
   "source": [
    "plt.scatter(model_max_tf.fittedvalues, model_max_tf.resid, color='darkblue')\n",
    "plt.xlabel('Fitted Values')\n",
    "plt.ylabel('Residuals')\n",
    "plt.title(f'Figure 5. Residuals vs Fitted Values for Province {data_difference_income.idxmax()}')\n",
    "plt.show()\n",
    "\n",
    "plt.scatter(model_max_tf.fittedvalues, df_prov_max_y_, color='darkblue')\n",
    "plt.xlabel('Fitted Values')\n",
    "plt.ylabel('Observed')\n",
    "plt.title(f'Figure 6. Observed vs Fitted Values for Province {data_difference_income.idxmax()}')\n",
    "plt.show()\n",
    "\n",
    "sm.qqplot(model_max_tf.resid, line='r')\n",
    "plt.title(f'Normal Q-Q Plot for Province {data_difference_income.idxmax()}')\n",
    "plt.show()"
   ]
  },
  {
   "cell_type": "markdown",
   "id": "c61a7dae-f026-4c19-a00a-490ba603be8f",
   "metadata": {},
   "source": [
    "<b>For Province 76:</b>"
   ]
  },
  {
   "cell_type": "markdown",
   "id": "f5a4a4a6-56ae-4f35-b877-f041c68d695c",
   "metadata": {
    "execution": {
     "iopub.execute_input": "2023-12-06T15:27:03.037642Z",
     "iopub.status.busy": "2023-12-06T15:27:03.036910Z",
     "iopub.status.idle": "2023-12-06T15:27:03.050909Z",
     "shell.execute_reply": "2023-12-06T15:27:03.048424Z",
     "shell.execute_reply.started": "2023-12-06T15:27:03.037577Z"
    },
    "tags": []
   },
   "source": [
    "The R-squared is at <b>0.902</b> which indicates how well the independent variables explain the variability of the dependent variable. Currently, the score is very good.\n",
    "\n",
    "However, upon checking the p-values, multiple independent variables are greater than 0.05 which indicates they are statistically not significant predictor of 'income', and can be subject for exclusion.\n",
    "\n",
    "Upon examining the theoretrical quantiles vs sample quantiles, the datapoints do not fit well the theoretrical distribution."
   ]
  },
  {
   "cell_type": "code",
   "execution_count": 67,
   "id": "7069ea0c-0fb5-4ae3-a1f1-9f7f2d9793b3",
   "metadata": {
    "execution": {
     "iopub.execute_input": "2023-12-06T14:47:31.776307Z",
     "iopub.status.busy": "2023-12-06T14:47:31.774959Z",
     "iopub.status.idle": "2023-12-06T14:47:33.178246Z",
     "shell.execute_reply": "2023-12-06T14:47:33.177369Z",
     "shell.execute_reply.started": "2023-12-06T14:47:31.776191Z"
    },
    "tags": []
   },
   "outputs": [
    {
     "data": {
      "text/html": [
       "<table class=\"simpletable\">\n",
       "<caption>OLS Regression Results</caption>\n",
       "<tr>\n",
       "  <th>Dep. Variable:</th>          <td>TOINC</td>      <th>  R-squared:         </th>  <td>   0.902</td>  \n",
       "</tr>\n",
       "<tr>\n",
       "  <th>Model:</th>                   <td>OLS</td>       <th>  Adj. R-squared:    </th>  <td>   0.902</td>  \n",
       "</tr>\n",
       "<tr>\n",
       "  <th>Method:</th>             <td>Least Squares</td>  <th>  F-statistic:       </th>  <td>   1613.</td>  \n",
       "</tr>\n",
       "<tr>\n",
       "  <th>Date:</th>             <td>Wed, 06 Dec 2023</td> <th>  Prob (F-statistic):</th>   <td>  0.00</td>   \n",
       "</tr>\n",
       "<tr>\n",
       "  <th>Time:</th>                 <td>14:47:32</td>     <th>  Log-Likelihood:    </th> <td>-1.1475e+05</td>\n",
       "</tr>\n",
       "<tr>\n",
       "  <th>No. Observations:</th>      <td>  8780</td>      <th>  AIC:               </th>  <td>2.296e+05</td> \n",
       "</tr>\n",
       "<tr>\n",
       "  <th>Df Residuals:</th>          <td>  8729</td>      <th>  BIC:               </th>  <td>2.300e+05</td> \n",
       "</tr>\n",
       "<tr>\n",
       "  <th>Df Model:</th>              <td>    50</td>      <th>                     </th>      <td> </td>     \n",
       "</tr>\n",
       "<tr>\n",
       "  <th>Covariance Type:</th>      <td>nonrobust</td>    <th>                     </th>      <td> </td>     \n",
       "</tr>\n",
       "</table>\n",
       "<table class=\"simpletable\">\n",
       "<tr>\n",
       "                <td></td>                  <th>coef</th>     <th>std err</th>      <th>t</th>      <th>P>|t|</th>  <th>[0.025</th>    <th>0.975]</th>  \n",
       "</tr>\n",
       "<tr>\n",
       "  <th>FSIZE</th>                        <td> 2237.5293</td> <td>  869.463</td> <td>    2.573</td> <td> 0.010</td> <td>  533.176</td> <td> 3941.882</td>\n",
       "</tr>\n",
       "<tr>\n",
       "  <th>LOSSES</th>                       <td>   -0.6594</td> <td>    0.762</td> <td>   -0.866</td> <td> 0.387</td> <td>   -2.153</td> <td>    0.834</td>\n",
       "</tr>\n",
       "<tr>\n",
       "  <th>BREAD</th>                        <td> 6327.7318</td> <td> 3761.305</td> <td>    1.682</td> <td> 0.093</td> <td>-1045.313</td> <td> 1.37e+04</td>\n",
       "</tr>\n",
       "<tr>\n",
       "  <th>MEAT</th>                         <td> 6327.0764</td> <td> 3761.305</td> <td>    1.682</td> <td> 0.093</td> <td>-1045.969</td> <td> 1.37e+04</td>\n",
       "</tr>\n",
       "<tr>\n",
       "  <th>FISH</th>                         <td> 6327.6151</td> <td> 3761.308</td> <td>    1.682</td> <td> 0.093</td> <td>-1045.435</td> <td> 1.37e+04</td>\n",
       "</tr>\n",
       "<tr>\n",
       "  <th>MILK</th>                         <td> 6326.7783</td> <td> 3761.306</td> <td>    1.682</td> <td> 0.093</td> <td>-1046.269</td> <td> 1.37e+04</td>\n",
       "</tr>\n",
       "<tr>\n",
       "  <th>OIL</th>                          <td> 6329.2810</td> <td> 3761.306</td> <td>    1.683</td> <td> 0.092</td> <td>-1043.767</td> <td> 1.37e+04</td>\n",
       "</tr>\n",
       "<tr>\n",
       "  <th>FRUIT</th>                        <td> 6327.4067</td> <td> 3761.308</td> <td>    1.682</td> <td> 0.093</td> <td>-1045.644</td> <td> 1.37e+04</td>\n",
       "</tr>\n",
       "<tr>\n",
       "  <th>VEG</th>                          <td> 6325.9199</td> <td> 3761.308</td> <td>    1.682</td> <td> 0.093</td> <td>-1047.130</td> <td> 1.37e+04</td>\n",
       "</tr>\n",
       "<tr>\n",
       "  <th>SUGAR</th>                        <td> 6324.6456</td> <td> 3761.308</td> <td>    1.682</td> <td> 0.093</td> <td>-1048.404</td> <td> 1.37e+04</td>\n",
       "</tr>\n",
       "<tr>\n",
       "  <th>FOOD_NEC</th>                     <td> 6327.1848</td> <td> 3761.306</td> <td>    1.682</td> <td> 0.093</td> <td>-1045.862</td> <td> 1.37e+04</td>\n",
       "</tr>\n",
       "<tr>\n",
       "  <th>FRUIT_VEG</th>                    <td> 6326.1133</td> <td> 3761.302</td> <td>    1.682</td> <td> 0.093</td> <td>-1046.925</td> <td> 1.37e+04</td>\n",
       "</tr>\n",
       "<tr>\n",
       "  <th>COFFEE</th>                       <td> 6326.3582</td> <td> 3761.308</td> <td>    1.682</td> <td> 0.093</td> <td>-1046.692</td> <td> 1.37e+04</td>\n",
       "</tr>\n",
       "<tr>\n",
       "  <th>TEA</th>                          <td> 6331.3850</td> <td> 3761.297</td> <td>    1.683</td> <td> 0.092</td> <td>-1041.644</td> <td> 1.37e+04</td>\n",
       "</tr>\n",
       "<tr>\n",
       "  <th>COCOA</th>                        <td> 6323.4686</td> <td> 3761.303</td> <td>    1.681</td> <td> 0.093</td> <td>-1049.573</td> <td> 1.37e+04</td>\n",
       "</tr>\n",
       "<tr>\n",
       "  <th>WATER</th>                        <td> 6329.5739</td> <td> 3761.308</td> <td>    1.683</td> <td> 0.092</td> <td>-1043.477</td> <td> 1.37e+04</td>\n",
       "</tr>\n",
       "<tr>\n",
       "  <th>SOFTDRINKS</th>                   <td> 6324.1908</td> <td> 3761.290</td> <td>    1.681</td> <td> 0.093</td> <td>-1048.824</td> <td> 1.37e+04</td>\n",
       "</tr>\n",
       "<tr>\n",
       "  <th>OTHER_NON_ALCOHOL</th>            <td>    2.2833</td> <td>    3.179</td> <td>    0.718</td> <td> 0.473</td> <td>   -3.948</td> <td>    8.515</td>\n",
       "</tr>\n",
       "<tr>\n",
       "  <th>ALCOHOL</th>                      <td> 1010.4641</td> <td> 2859.460</td> <td>    0.353</td> <td> 0.724</td> <td>-4594.752</td> <td> 6615.680</td>\n",
       "</tr>\n",
       "<tr>\n",
       "  <th>TOBACCO</th>                      <td> 1009.5474</td> <td> 2859.462</td> <td>    0.353</td> <td> 0.724</td> <td>-4595.671</td> <td> 6614.766</td>\n",
       "</tr>\n",
       "<tr>\n",
       "  <th>OTHER_VEG</th>                    <td>  981.2557</td> <td> 2859.617</td> <td>    0.343</td> <td> 0.731</td> <td>-4624.267</td> <td> 6586.779</td>\n",
       "</tr>\n",
       "<tr>\n",
       "  <th>SERVICES_PRIMARY_GOODS</th>       <td> 1013.5912</td> <td> 2859.466</td> <td>    0.354</td> <td> 0.723</td> <td>-4591.637</td> <td> 6618.820</td>\n",
       "</tr>\n",
       "<tr>\n",
       "  <th>ALCOHOL_PROCDUCTION_SERVICES</th> <td> 1013.6146</td> <td> 2859.789</td> <td>    0.354</td> <td> 0.723</td> <td>-4592.247</td> <td> 6619.476</td>\n",
       "</tr>\n",
       "<tr>\n",
       "  <th>FOOD_HOME</th>                    <td>-3689.6147</td> <td> 1.21e+04</td> <td>   -0.304</td> <td> 0.761</td> <td>-2.74e+04</td> <td> 2.01e+04</td>\n",
       "</tr>\n",
       "<tr>\n",
       "  <th>FOOD_OUTSIDE</th>                 <td> 2637.6392</td> <td> 1.15e+04</td> <td>    0.229</td> <td> 0.819</td> <td>-1.99e+04</td> <td> 2.52e+04</td>\n",
       "</tr>\n",
       "<tr>\n",
       "  <th>FOOD</th>                         <td>-7656.6247</td> <td> 1.78e+04</td> <td>   -0.430</td> <td> 0.667</td> <td>-4.26e+04</td> <td> 2.72e+04</td>\n",
       "</tr>\n",
       "<tr>\n",
       "  <th>CLOTH</th>                        <td> 1010.2489</td> <td> 2859.463</td> <td>    0.353</td> <td> 0.724</td> <td>-4594.974</td> <td> 6615.472</td>\n",
       "</tr>\n",
       "<tr>\n",
       "  <th>FURNISHING</th>                   <td> 1009.8766</td> <td> 2859.464</td> <td>    0.353</td> <td> 0.724</td> <td>-4595.347</td> <td> 6615.100</td>\n",
       "</tr>\n",
       "<tr>\n",
       "  <th>HEALTH</th>                       <td> 1009.8010</td> <td> 2859.463</td> <td>    0.353</td> <td> 0.724</td> <td>-4595.421</td> <td> 6615.023</td>\n",
       "</tr>\n",
       "<tr>\n",
       "  <th>HOUSING_WATER</th>                <td> 1010.2942</td> <td> 2859.464</td> <td>    0.353</td> <td> 0.724</td> <td>-4594.929</td> <td> 6615.517</td>\n",
       "</tr>\n",
       "<tr>\n",
       "  <th>ACTRENT</th>                      <td>   -0.0460</td> <td>    0.032</td> <td>   -1.458</td> <td> 0.145</td> <td>   -0.108</td> <td>    0.016</td>\n",
       "</tr>\n",
       "<tr>\n",
       "  <th>RENTVAL</th>                      <td>   -0.5092</td> <td>    0.060</td> <td>   -8.545</td> <td> 0.000</td> <td>   -0.626</td> <td>   -0.392</td>\n",
       "</tr>\n",
       "<tr>\n",
       "  <th>TRANSPORT</th>                    <td> 1010.2394</td> <td> 2859.464</td> <td>    0.353</td> <td> 0.724</td> <td>-4594.984</td> <td> 6615.463</td>\n",
       "</tr>\n",
       "<tr>\n",
       "  <th>COMMUNICATION</th>                <td> 1011.6086</td> <td> 2859.461</td> <td>    0.354</td> <td> 0.724</td> <td>-4593.610</td> <td> 6616.827</td>\n",
       "</tr>\n",
       "<tr>\n",
       "  <th>RECREATION</th>                   <td> 1011.4763</td> <td> 2859.460</td> <td>    0.354</td> <td> 0.724</td> <td>-4593.740</td> <td> 6616.693</td>\n",
       "</tr>\n",
       "<tr>\n",
       "  <th>EDUCATION</th>                    <td> 1009.9965</td> <td> 2859.463</td> <td>    0.353</td> <td> 0.724</td> <td>-4595.225</td> <td> 6615.218</td>\n",
       "</tr>\n",
       "<tr>\n",
       "  <th>INSURANCE</th>                    <td> 1010.3409</td> <td> 2859.464</td> <td>    0.353</td> <td> 0.724</td> <td>-4594.882</td> <td> 6615.564</td>\n",
       "</tr>\n",
       "<tr>\n",
       "  <th>MISCELLANEOUS</th>                <td> 1009.8579</td> <td> 2859.463</td> <td>    0.353</td> <td> 0.724</td> <td>-4595.364</td> <td> 6615.080</td>\n",
       "</tr>\n",
       "<tr>\n",
       "  <th>DURABLE</th>                      <td> 1010.0405</td> <td> 2859.463</td> <td>    0.353</td> <td> 0.724</td> <td>-4595.182</td> <td> 6615.263</td>\n",
       "</tr>\n",
       "<tr>\n",
       "  <th>OCCASION</th>                     <td> 1010.1768</td> <td> 2859.464</td> <td>    0.353</td> <td> 0.724</td> <td>-4595.047</td> <td> 6615.400</td>\n",
       "</tr>\n",
       "<tr>\n",
       "  <th>OTHER_EXPENDITURE</th>            <td> 1010.1684</td> <td> 2859.463</td> <td>    0.353</td> <td> 0.724</td> <td>-4595.054</td> <td> 6615.391</td>\n",
       "</tr>\n",
       "<tr>\n",
       "  <th>OTHER_DISBURSEMENT</th>           <td>-5019.2202</td> <td> 1.36e+04</td> <td>   -0.370</td> <td> 0.712</td> <td>-3.16e+04</td> <td> 2.16e+04</td>\n",
       "</tr>\n",
       "<tr>\n",
       "  <th>FOOD_ACCOM_SRVC</th>              <td> 1009.8979</td> <td> 2859.508</td> <td>    0.353</td> <td> 0.724</td> <td>-4595.412</td> <td> 6615.208</td>\n",
       "</tr>\n",
       "<tr>\n",
       "  <th>NFOOD</th>                        <td>-6029.0209</td> <td> 1.39e+04</td> <td>   -0.434</td> <td> 0.664</td> <td>-3.32e+04</td> <td> 2.12e+04</td>\n",
       "</tr>\n",
       "<tr>\n",
       "  <th>TOTDIS</th>                       <td> 5020.2112</td> <td> 1.36e+04</td> <td>    0.370</td> <td> 0.712</td> <td>-2.16e+04</td> <td> 3.16e+04</td>\n",
       "</tr>\n",
       "<tr>\n",
       "  <th>OTHREC</th>                       <td>   -1.0776</td> <td>    0.022</td> <td>  -49.048</td> <td> 0.000</td> <td>   -1.121</td> <td>   -1.035</td>\n",
       "</tr>\n",
       "<tr>\n",
       "  <th>URB</th>                          <td>-1.431e+07</td> <td> 4.99e+06</td> <td>   -2.867</td> <td> 0.004</td> <td>-2.41e+07</td> <td>-4.53e+06</td>\n",
       "</tr>\n",
       "<tr>\n",
       "  <th>RPROV</th>                        <td> 1880.5524</td> <td>  656.605</td> <td>    2.864</td> <td> 0.004</td> <td>  593.451</td> <td> 3167.653</td>\n",
       "</tr>\n",
       "<tr>\n",
       "  <th>RPSU</th>                         <td>    9.9095</td> <td>    7.634</td> <td>    1.298</td> <td> 0.194</td> <td>   -5.056</td> <td>   24.875</td>\n",
       "</tr>\n",
       "<tr>\n",
       "  <th>BWEIGHT</th>                      <td>  843.5178</td> <td>  118.337</td> <td>    7.128</td> <td> 0.000</td> <td>  611.549</td> <td> 1075.487</td>\n",
       "</tr>\n",
       "<tr>\n",
       "  <th>RFACT_POP</th>                    <td> -627.9169</td> <td>   84.605</td> <td>   -7.422</td> <td> 0.000</td> <td> -793.762</td> <td> -462.072</td>\n",
       "</tr>\n",
       "</table>\n",
       "<table class=\"simpletable\">\n",
       "<tr>\n",
       "  <th>Omnibus:</th>       <td>8204.140</td> <th>  Durbin-Watson:     </th>  <td>   1.746</td>  \n",
       "</tr>\n",
       "<tr>\n",
       "  <th>Prob(Omnibus):</th>  <td> 0.000</td>  <th>  Jarque-Bera (JB):  </th> <td>1324330.784</td>\n",
       "</tr>\n",
       "<tr>\n",
       "  <th>Skew:</th>           <td> 3.997</td>  <th>  Prob(JB):          </th>  <td>    0.00</td>  \n",
       "</tr>\n",
       "<tr>\n",
       "  <th>Kurtosis:</th>       <td>62.633</td>  <th>  Cond. No.          </th>  <td>2.50e+09</td>  \n",
       "</tr>\n",
       "</table><br/><br/>Notes:<br/>[1] Standard Errors assume that the covariance matrix of the errors is correctly specified.<br/>[2] The condition number is large, 2.5e+09. This might indicate that there are<br/>strong multicollinearity or other numerical problems."
      ],
      "text/latex": [
       "\\begin{center}\n",
       "\\begin{tabular}{lclc}\n",
       "\\toprule\n",
       "\\textbf{Dep. Variable:}                 &      TOINC       & \\textbf{  R-squared:         } &      0.902   \\\\\n",
       "\\textbf{Model:}                         &       OLS        & \\textbf{  Adj. R-squared:    } &      0.902   \\\\\n",
       "\\textbf{Method:}                        &  Least Squares   & \\textbf{  F-statistic:       } &      1613.   \\\\\n",
       "\\textbf{Date:}                          & Wed, 06 Dec 2023 & \\textbf{  Prob (F-statistic):} &      0.00    \\\\\n",
       "\\textbf{Time:}                          &     14:47:32     & \\textbf{  Log-Likelihood:    } & -1.1475e+05  \\\\\n",
       "\\textbf{No. Observations:}              &        8780      & \\textbf{  AIC:               } &  2.296e+05   \\\\\n",
       "\\textbf{Df Residuals:}                  &        8729      & \\textbf{  BIC:               } &  2.300e+05   \\\\\n",
       "\\textbf{Df Model:}                      &          50      & \\textbf{                     } &              \\\\\n",
       "\\textbf{Covariance Type:}               &    nonrobust     & \\textbf{                     } &              \\\\\n",
       "\\bottomrule\n",
       "\\end{tabular}\n",
       "\\begin{tabular}{lcccccc}\n",
       "                                        & \\textbf{coef} & \\textbf{std err} & \\textbf{t} & \\textbf{P$> |$t$|$} & \\textbf{[0.025} & \\textbf{0.975]}  \\\\\n",
       "\\midrule\n",
       "\\textbf{FSIZE}                          &    2237.5293  &      869.463     &     2.573  &         0.010        &      533.176    &     3941.882     \\\\\n",
       "\\textbf{LOSSES}                         &      -0.6594  &        0.762     &    -0.866  &         0.387        &       -2.153    &        0.834     \\\\\n",
       "\\textbf{BREAD}                          &    6327.7318  &     3761.305     &     1.682  &         0.093        &    -1045.313    &     1.37e+04     \\\\\n",
       "\\textbf{MEAT}                           &    6327.0764  &     3761.305     &     1.682  &         0.093        &    -1045.969    &     1.37e+04     \\\\\n",
       "\\textbf{FISH}                           &    6327.6151  &     3761.308     &     1.682  &         0.093        &    -1045.435    &     1.37e+04     \\\\\n",
       "\\textbf{MILK}                           &    6326.7783  &     3761.306     &     1.682  &         0.093        &    -1046.269    &     1.37e+04     \\\\\n",
       "\\textbf{OIL}                            &    6329.2810  &     3761.306     &     1.683  &         0.092        &    -1043.767    &     1.37e+04     \\\\\n",
       "\\textbf{FRUIT}                          &    6327.4067  &     3761.308     &     1.682  &         0.093        &    -1045.644    &     1.37e+04     \\\\\n",
       "\\textbf{VEG}                            &    6325.9199  &     3761.308     &     1.682  &         0.093        &    -1047.130    &     1.37e+04     \\\\\n",
       "\\textbf{SUGAR}                          &    6324.6456  &     3761.308     &     1.682  &         0.093        &    -1048.404    &     1.37e+04     \\\\\n",
       "\\textbf{FOOD\\_NEC}                      &    6327.1848  &     3761.306     &     1.682  &         0.093        &    -1045.862    &     1.37e+04     \\\\\n",
       "\\textbf{FRUIT\\_VEG}                     &    6326.1133  &     3761.302     &     1.682  &         0.093        &    -1046.925    &     1.37e+04     \\\\\n",
       "\\textbf{COFFEE}                         &    6326.3582  &     3761.308     &     1.682  &         0.093        &    -1046.692    &     1.37e+04     \\\\\n",
       "\\textbf{TEA}                            &    6331.3850  &     3761.297     &     1.683  &         0.092        &    -1041.644    &     1.37e+04     \\\\\n",
       "\\textbf{COCOA}                          &    6323.4686  &     3761.303     &     1.681  &         0.093        &    -1049.573    &     1.37e+04     \\\\\n",
       "\\textbf{WATER}                          &    6329.5739  &     3761.308     &     1.683  &         0.092        &    -1043.477    &     1.37e+04     \\\\\n",
       "\\textbf{SOFTDRINKS}                     &    6324.1908  &     3761.290     &     1.681  &         0.093        &    -1048.824    &     1.37e+04     \\\\\n",
       "\\textbf{OTHER\\_NON\\_ALCOHOL}            &       2.2833  &        3.179     &     0.718  &         0.473        &       -3.948    &        8.515     \\\\\n",
       "\\textbf{ALCOHOL}                        &    1010.4641  &     2859.460     &     0.353  &         0.724        &    -4594.752    &     6615.680     \\\\\n",
       "\\textbf{TOBACCO}                        &    1009.5474  &     2859.462     &     0.353  &         0.724        &    -4595.671    &     6614.766     \\\\\n",
       "\\textbf{OTHER\\_VEG}                     &     981.2557  &     2859.617     &     0.343  &         0.731        &    -4624.267    &     6586.779     \\\\\n",
       "\\textbf{SERVICES\\_PRIMARY\\_GOODS}       &    1013.5912  &     2859.466     &     0.354  &         0.723        &    -4591.637    &     6618.820     \\\\\n",
       "\\textbf{ALCOHOL\\_PROCDUCTION\\_SERVICES} &    1013.6146  &     2859.789     &     0.354  &         0.723        &    -4592.247    &     6619.476     \\\\\n",
       "\\textbf{FOOD\\_HOME}                     &   -3689.6147  &     1.21e+04     &    -0.304  &         0.761        &    -2.74e+04    &     2.01e+04     \\\\\n",
       "\\textbf{FOOD\\_OUTSIDE}                  &    2637.6392  &     1.15e+04     &     0.229  &         0.819        &    -1.99e+04    &     2.52e+04     \\\\\n",
       "\\textbf{FOOD}                           &   -7656.6247  &     1.78e+04     &    -0.430  &         0.667        &    -4.26e+04    &     2.72e+04     \\\\\n",
       "\\textbf{CLOTH}                          &    1010.2489  &     2859.463     &     0.353  &         0.724        &    -4594.974    &     6615.472     \\\\\n",
       "\\textbf{FURNISHING}                     &    1009.8766  &     2859.464     &     0.353  &         0.724        &    -4595.347    &     6615.100     \\\\\n",
       "\\textbf{HEALTH}                         &    1009.8010  &     2859.463     &     0.353  &         0.724        &    -4595.421    &     6615.023     \\\\\n",
       "\\textbf{HOUSING\\_WATER}                 &    1010.2942  &     2859.464     &     0.353  &         0.724        &    -4594.929    &     6615.517     \\\\\n",
       "\\textbf{ACTRENT}                        &      -0.0460  &        0.032     &    -1.458  &         0.145        &       -0.108    &        0.016     \\\\\n",
       "\\textbf{RENTVAL}                        &      -0.5092  &        0.060     &    -8.545  &         0.000        &       -0.626    &       -0.392     \\\\\n",
       "\\textbf{TRANSPORT}                      &    1010.2394  &     2859.464     &     0.353  &         0.724        &    -4594.984    &     6615.463     \\\\\n",
       "\\textbf{COMMUNICATION}                  &    1011.6086  &     2859.461     &     0.354  &         0.724        &    -4593.610    &     6616.827     \\\\\n",
       "\\textbf{RECREATION}                     &    1011.4763  &     2859.460     &     0.354  &         0.724        &    -4593.740    &     6616.693     \\\\\n",
       "\\textbf{EDUCATION}                      &    1009.9965  &     2859.463     &     0.353  &         0.724        &    -4595.225    &     6615.218     \\\\\n",
       "\\textbf{INSURANCE}                      &    1010.3409  &     2859.464     &     0.353  &         0.724        &    -4594.882    &     6615.564     \\\\\n",
       "\\textbf{MISCELLANEOUS}                  &    1009.8579  &     2859.463     &     0.353  &         0.724        &    -4595.364    &     6615.080     \\\\\n",
       "\\textbf{DURABLE}                        &    1010.0405  &     2859.463     &     0.353  &         0.724        &    -4595.182    &     6615.263     \\\\\n",
       "\\textbf{OCCASION}                       &    1010.1768  &     2859.464     &     0.353  &         0.724        &    -4595.047    &     6615.400     \\\\\n",
       "\\textbf{OTHER\\_EXPENDITURE}             &    1010.1684  &     2859.463     &     0.353  &         0.724        &    -4595.054    &     6615.391     \\\\\n",
       "\\textbf{OTHER\\_DISBURSEMENT}            &   -5019.2202  &     1.36e+04     &    -0.370  &         0.712        &    -3.16e+04    &     2.16e+04     \\\\\n",
       "\\textbf{FOOD\\_ACCOM\\_SRVC}              &    1009.8979  &     2859.508     &     0.353  &         0.724        &    -4595.412    &     6615.208     \\\\\n",
       "\\textbf{NFOOD}                          &   -6029.0209  &     1.39e+04     &    -0.434  &         0.664        &    -3.32e+04    &     2.12e+04     \\\\\n",
       "\\textbf{TOTDIS}                         &    5020.2112  &     1.36e+04     &     0.370  &         0.712        &    -2.16e+04    &     3.16e+04     \\\\\n",
       "\\textbf{OTHREC}                         &      -1.0776  &        0.022     &   -49.048  &         0.000        &       -1.121    &       -1.035     \\\\\n",
       "\\textbf{URB}                            &   -1.431e+07  &     4.99e+06     &    -2.867  &         0.004        &    -2.41e+07    &    -4.53e+06     \\\\\n",
       "\\textbf{RPROV}                          &    1880.5524  &      656.605     &     2.864  &         0.004        &      593.451    &     3167.653     \\\\\n",
       "\\textbf{RPSU}                           &       9.9095  &        7.634     &     1.298  &         0.194        &       -5.056    &       24.875     \\\\\n",
       "\\textbf{BWEIGHT}                        &     843.5178  &      118.337     &     7.128  &         0.000        &      611.549    &     1075.487     \\\\\n",
       "\\textbf{RFACT\\_POP}                     &    -627.9169  &       84.605     &    -7.422  &         0.000        &     -793.762    &     -462.072     \\\\\n",
       "\\bottomrule\n",
       "\\end{tabular}\n",
       "\\begin{tabular}{lclc}\n",
       "\\textbf{Omnibus:}       & 8204.140 & \\textbf{  Durbin-Watson:     } &      1.746   \\\\\n",
       "\\textbf{Prob(Omnibus):} &   0.000  & \\textbf{  Jarque-Bera (JB):  } & 1324330.784  \\\\\n",
       "\\textbf{Skew:}          &   3.997  & \\textbf{  Prob(JB):          } &       0.00   \\\\\n",
       "\\textbf{Kurtosis:}      &  62.633  & \\textbf{  Cond. No.          } &   2.50e+09   \\\\\n",
       "\\bottomrule\n",
       "\\end{tabular}\n",
       "%\\caption{OLS Regression Results}\n",
       "\\end{center}\n",
       "\n",
       "Notes: \\newline\n",
       " [1] Standard Errors assume that the covariance matrix of the errors is correctly specified. \\newline\n",
       " [2] The condition number is large, 2.5e+09. This might indicate that there are \\newline\n",
       " strong multicollinearity or other numerical problems."
      ],
      "text/plain": [
       "<class 'statsmodels.iolib.summary.Summary'>\n",
       "\"\"\"\n",
       "                            OLS Regression Results                            \n",
       "==============================================================================\n",
       "Dep. Variable:                  TOINC   R-squared:                       0.902\n",
       "Model:                            OLS   Adj. R-squared:                  0.902\n",
       "Method:                 Least Squares   F-statistic:                     1613.\n",
       "Date:                Wed, 06 Dec 2023   Prob (F-statistic):               0.00\n",
       "Time:                        14:47:32   Log-Likelihood:            -1.1475e+05\n",
       "No. Observations:                8780   AIC:                         2.296e+05\n",
       "Df Residuals:                    8729   BIC:                         2.300e+05\n",
       "Df Model:                          50                                         \n",
       "Covariance Type:            nonrobust                                         \n",
       "================================================================================================\n",
       "                                   coef    std err          t      P>|t|      [0.025      0.975]\n",
       "------------------------------------------------------------------------------------------------\n",
       "FSIZE                         2237.5293    869.463      2.573      0.010     533.176    3941.882\n",
       "LOSSES                          -0.6594      0.762     -0.866      0.387      -2.153       0.834\n",
       "BREAD                         6327.7318   3761.305      1.682      0.093   -1045.313    1.37e+04\n",
       "MEAT                          6327.0764   3761.305      1.682      0.093   -1045.969    1.37e+04\n",
       "FISH                          6327.6151   3761.308      1.682      0.093   -1045.435    1.37e+04\n",
       "MILK                          6326.7783   3761.306      1.682      0.093   -1046.269    1.37e+04\n",
       "OIL                           6329.2810   3761.306      1.683      0.092   -1043.767    1.37e+04\n",
       "FRUIT                         6327.4067   3761.308      1.682      0.093   -1045.644    1.37e+04\n",
       "VEG                           6325.9199   3761.308      1.682      0.093   -1047.130    1.37e+04\n",
       "SUGAR                         6324.6456   3761.308      1.682      0.093   -1048.404    1.37e+04\n",
       "FOOD_NEC                      6327.1848   3761.306      1.682      0.093   -1045.862    1.37e+04\n",
       "FRUIT_VEG                     6326.1133   3761.302      1.682      0.093   -1046.925    1.37e+04\n",
       "COFFEE                        6326.3582   3761.308      1.682      0.093   -1046.692    1.37e+04\n",
       "TEA                           6331.3850   3761.297      1.683      0.092   -1041.644    1.37e+04\n",
       "COCOA                         6323.4686   3761.303      1.681      0.093   -1049.573    1.37e+04\n",
       "WATER                         6329.5739   3761.308      1.683      0.092   -1043.477    1.37e+04\n",
       "SOFTDRINKS                    6324.1908   3761.290      1.681      0.093   -1048.824    1.37e+04\n",
       "OTHER_NON_ALCOHOL                2.2833      3.179      0.718      0.473      -3.948       8.515\n",
       "ALCOHOL                       1010.4641   2859.460      0.353      0.724   -4594.752    6615.680\n",
       "TOBACCO                       1009.5474   2859.462      0.353      0.724   -4595.671    6614.766\n",
       "OTHER_VEG                      981.2557   2859.617      0.343      0.731   -4624.267    6586.779\n",
       "SERVICES_PRIMARY_GOODS        1013.5912   2859.466      0.354      0.723   -4591.637    6618.820\n",
       "ALCOHOL_PROCDUCTION_SERVICES  1013.6146   2859.789      0.354      0.723   -4592.247    6619.476\n",
       "FOOD_HOME                    -3689.6147   1.21e+04     -0.304      0.761   -2.74e+04    2.01e+04\n",
       "FOOD_OUTSIDE                  2637.6392   1.15e+04      0.229      0.819   -1.99e+04    2.52e+04\n",
       "FOOD                         -7656.6247   1.78e+04     -0.430      0.667   -4.26e+04    2.72e+04\n",
       "CLOTH                         1010.2489   2859.463      0.353      0.724   -4594.974    6615.472\n",
       "FURNISHING                    1009.8766   2859.464      0.353      0.724   -4595.347    6615.100\n",
       "HEALTH                        1009.8010   2859.463      0.353      0.724   -4595.421    6615.023\n",
       "HOUSING_WATER                 1010.2942   2859.464      0.353      0.724   -4594.929    6615.517\n",
       "ACTRENT                         -0.0460      0.032     -1.458      0.145      -0.108       0.016\n",
       "RENTVAL                         -0.5092      0.060     -8.545      0.000      -0.626      -0.392\n",
       "TRANSPORT                     1010.2394   2859.464      0.353      0.724   -4594.984    6615.463\n",
       "COMMUNICATION                 1011.6086   2859.461      0.354      0.724   -4593.610    6616.827\n",
       "RECREATION                    1011.4763   2859.460      0.354      0.724   -4593.740    6616.693\n",
       "EDUCATION                     1009.9965   2859.463      0.353      0.724   -4595.225    6615.218\n",
       "INSURANCE                     1010.3409   2859.464      0.353      0.724   -4594.882    6615.564\n",
       "MISCELLANEOUS                 1009.8579   2859.463      0.353      0.724   -4595.364    6615.080\n",
       "DURABLE                       1010.0405   2859.463      0.353      0.724   -4595.182    6615.263\n",
       "OCCASION                      1010.1768   2859.464      0.353      0.724   -4595.047    6615.400\n",
       "OTHER_EXPENDITURE             1010.1684   2859.463      0.353      0.724   -4595.054    6615.391\n",
       "OTHER_DISBURSEMENT           -5019.2202   1.36e+04     -0.370      0.712   -3.16e+04    2.16e+04\n",
       "FOOD_ACCOM_SRVC               1009.8979   2859.508      0.353      0.724   -4595.412    6615.208\n",
       "NFOOD                        -6029.0209   1.39e+04     -0.434      0.664   -3.32e+04    2.12e+04\n",
       "TOTDIS                        5020.2112   1.36e+04      0.370      0.712   -2.16e+04    3.16e+04\n",
       "OTHREC                          -1.0776      0.022    -49.048      0.000      -1.121      -1.035\n",
       "URB                          -1.431e+07   4.99e+06     -2.867      0.004   -2.41e+07   -4.53e+06\n",
       "RPROV                         1880.5524    656.605      2.864      0.004     593.451    3167.653\n",
       "RPSU                             9.9095      7.634      1.298      0.194      -5.056      24.875\n",
       "BWEIGHT                        843.5178    118.337      7.128      0.000     611.549    1075.487\n",
       "RFACT_POP                     -627.9169     84.605     -7.422      0.000    -793.762    -462.072\n",
       "==============================================================================\n",
       "Omnibus:                     8204.140   Durbin-Watson:                   1.746\n",
       "Prob(Omnibus):                  0.000   Jarque-Bera (JB):          1324330.784\n",
       "Skew:                           3.997   Prob(JB):                         0.00\n",
       "Kurtosis:                      62.633   Cond. No.                     2.50e+09\n",
       "==============================================================================\n",
       "\n",
       "Notes:\n",
       "[1] Standard Errors assume that the covariance matrix of the errors is correctly specified.\n",
       "[2] The condition number is large, 2.5e+09. This might indicate that there are\n",
       "strong multicollinearity or other numerical problems.\n",
       "\"\"\""
      ]
     },
     "execution_count": 67,
     "metadata": {},
     "output_type": "execute_result"
    }
   ],
   "source": [
    "df_prov_min_X, df_prov_min_y, model_min = df_prov_X_y(df_fies_2021_filtered, data_difference_income, max_inc_prov=False)\n",
    "df_prov_min_X = sm.add_constant(df_prov_min_X)\n",
    "model_min = sm.OLS(df_prov_min_y, df_prov_min_X).fit()\n",
    "model_min.summary()"
   ]
  },
  {
   "cell_type": "code",
   "execution_count": 68,
   "id": "cd9087b1-f90e-4a5b-bed2-f6dec7184d0c",
   "metadata": {
    "execution": {
     "iopub.execute_input": "2023-12-06T14:47:39.730572Z",
     "iopub.status.busy": "2023-12-06T14:47:39.729839Z",
     "iopub.status.idle": "2023-12-06T14:47:40.411582Z",
     "shell.execute_reply": "2023-12-06T14:47:40.407259Z",
     "shell.execute_reply.started": "2023-12-06T14:47:39.730508Z"
    },
    "tags": []
   },
   "outputs": [
    {
     "name": "stdout",
     "output_type": "stream",
     "text": [
      "training set score: 0.886100\n",
      "test set score: 0.931945\n",
      "number of features used: 8\n"
     ]
    }
   ],
   "source": [
    "X_train, X_test, y_train, y_test = train_test_split(df_prov_min_X, df_prov_min_y, test_size=0.2, random_state=42)\n",
    "lasso2 = Lasso(alpha=100000000, max_iter=10000000).fit(X_train, y_train)\n",
    "true_indices = np.where(lasso2.coef_ != 0)[0]\n",
    "df_prov_min_X = df_prov_min_X.iloc[:, true_indices]\n",
    "# df_prov_min_X_ = df_prov_min_X_.drop('ACTRENT', axis=1)"
   ]
  },
  {
   "cell_type": "code",
   "execution_count": 69,
   "id": "125e0d4b-5a1f-461d-8991-4346bf2e78b6",
   "metadata": {
    "execution": {
     "iopub.execute_input": "2023-12-06T14:47:46.570660Z",
     "iopub.status.busy": "2023-12-06T14:47:46.569496Z",
     "iopub.status.idle": "2023-12-06T14:47:46.584976Z",
     "shell.execute_reply": "2023-12-06T14:47:46.583198Z",
     "shell.execute_reply.started": "2023-12-06T14:47:46.570553Z"
    },
    "tags": []
   },
   "outputs": [],
   "source": [
    "df_prov_min_X_ = np.power(df_prov_min_X, 1/3)\n",
    "df_prov_min_y_ = np.power(df_prov_min_y, 1/3)"
   ]
  },
  {
   "cell_type": "code",
   "execution_count": 70,
   "id": "fe3f8adc-371f-4d62-a7a7-b24ec54322ba",
   "metadata": {
    "execution": {
     "iopub.execute_input": "2023-12-06T14:47:52.963728Z",
     "iopub.status.busy": "2023-12-06T14:47:52.962825Z",
     "iopub.status.idle": "2023-12-06T14:47:53.242918Z",
     "shell.execute_reply": "2023-12-06T14:47:53.242062Z",
     "shell.execute_reply.started": "2023-12-06T14:47:52.963663Z"
    },
    "tags": []
   },
   "outputs": [
    {
     "data": {
      "text/html": [
       "<table class=\"simpletable\">\n",
       "<caption>OLS Regression Results</caption>\n",
       "<tr>\n",
       "  <th>Dep. Variable:</th>          <td>TOINC</td>      <th>  R-squared (uncentered):</th>      <td>   0.995</td> \n",
       "</tr>\n",
       "<tr>\n",
       "  <th>Model:</th>                   <td>OLS</td>       <th>  Adj. R-squared (uncentered):</th> <td>   0.995</td> \n",
       "</tr>\n",
       "<tr>\n",
       "  <th>Method:</th>             <td>Least Squares</td>  <th>  F-statistic:       </th>          <td>2.134e+05</td>\n",
       "</tr>\n",
       "<tr>\n",
       "  <th>Date:</th>             <td>Wed, 06 Dec 2023</td> <th>  Prob (F-statistic):</th>           <td>  0.00</td>  \n",
       "</tr>\n",
       "<tr>\n",
       "  <th>Time:</th>                 <td>14:47:53</td>     <th>  Log-Likelihood:    </th>          <td> -27022.</td> \n",
       "</tr>\n",
       "<tr>\n",
       "  <th>No. Observations:</th>      <td>  8780</td>      <th>  AIC:               </th>          <td>5.406e+04</td>\n",
       "</tr>\n",
       "<tr>\n",
       "  <th>Df Residuals:</th>          <td>  8772</td>      <th>  BIC:               </th>          <td>5.412e+04</td>\n",
       "</tr>\n",
       "<tr>\n",
       "  <th>Df Model:</th>              <td>     8</td>      <th>                     </th>              <td> </td>    \n",
       "</tr>\n",
       "<tr>\n",
       "  <th>Covariance Type:</th>      <td>nonrobust</td>    <th>                     </th>              <td> </td>    \n",
       "</tr>\n",
       "</table>\n",
       "<table class=\"simpletable\">\n",
       "<tr>\n",
       "        <td></td>           <th>coef</th>     <th>std err</th>      <th>t</th>      <th>P>|t|</th>  <th>[0.025</th>    <th>0.975]</th>  \n",
       "</tr>\n",
       "<tr>\n",
       "  <th>FOOD</th>          <td>    0.0896</td> <td>    0.011</td> <td>    8.517</td> <td> 0.000</td> <td>    0.069</td> <td>    0.110</td>\n",
       "</tr>\n",
       "<tr>\n",
       "  <th>HEALTH</th>        <td>   -0.0322</td> <td>    0.010</td> <td>   -3.276</td> <td> 0.001</td> <td>   -0.052</td> <td>   -0.013</td>\n",
       "</tr>\n",
       "<tr>\n",
       "  <th>ACTRENT</th>       <td>   -0.0283</td> <td>    0.003</td> <td>   -8.289</td> <td> 0.000</td> <td>   -0.035</td> <td>   -0.022</td>\n",
       "</tr>\n",
       "<tr>\n",
       "  <th>RENTVAL</th>       <td>   -0.0529</td> <td>    0.010</td> <td>   -5.307</td> <td> 0.000</td> <td>   -0.072</td> <td>   -0.033</td>\n",
       "</tr>\n",
       "<tr>\n",
       "  <th>COMMUNICATION</th> <td>    0.0565</td> <td>    0.012</td> <td>    4.657</td> <td> 0.000</td> <td>    0.033</td> <td>    0.080</td>\n",
       "</tr>\n",
       "<tr>\n",
       "  <th>NFOOD</th>         <td>    0.1825</td> <td>    0.018</td> <td>   10.015</td> <td> 0.000</td> <td>    0.147</td> <td>    0.218</td>\n",
       "</tr>\n",
       "<tr>\n",
       "  <th>TOTDIS</th>        <td>    0.8882</td> <td>    0.017</td> <td>   52.010</td> <td> 0.000</td> <td>    0.855</td> <td>    0.922</td>\n",
       "</tr>\n",
       "<tr>\n",
       "  <th>OTHREC</th>        <td>   -0.1348</td> <td>    0.005</td> <td>  -27.263</td> <td> 0.000</td> <td>   -0.145</td> <td>   -0.125</td>\n",
       "</tr>\n",
       "</table>\n",
       "<table class=\"simpletable\">\n",
       "<tr>\n",
       "  <th>Omnibus:</th>       <td>1449.380</td> <th>  Durbin-Watson:     </th> <td>   1.618</td>\n",
       "</tr>\n",
       "<tr>\n",
       "  <th>Prob(Omnibus):</th>  <td> 0.000</td>  <th>  Jarque-Bera (JB):  </th> <td>3482.136</td>\n",
       "</tr>\n",
       "<tr>\n",
       "  <th>Skew:</th>           <td> 0.935</td>  <th>  Prob(JB):          </th> <td>    0.00</td>\n",
       "</tr>\n",
       "<tr>\n",
       "  <th>Kurtosis:</th>       <td> 5.454</td>  <th>  Cond. No.          </th> <td>    49.7</td>\n",
       "</tr>\n",
       "</table><br/><br/>Notes:<br/>[1] R² is computed without centering (uncentered) since the model does not contain a constant.<br/>[2] Standard Errors assume that the covariance matrix of the errors is correctly specified."
      ],
      "text/latex": [
       "\\begin{center}\n",
       "\\begin{tabular}{lclc}\n",
       "\\toprule\n",
       "\\textbf{Dep. Variable:}    &      TOINC       & \\textbf{  R-squared (uncentered):}      &     0.995   \\\\\n",
       "\\textbf{Model:}            &       OLS        & \\textbf{  Adj. R-squared (uncentered):} &     0.995   \\\\\n",
       "\\textbf{Method:}           &  Least Squares   & \\textbf{  F-statistic:       }          & 2.134e+05   \\\\\n",
       "\\textbf{Date:}             & Wed, 06 Dec 2023 & \\textbf{  Prob (F-statistic):}          &     0.00    \\\\\n",
       "\\textbf{Time:}             &     14:47:53     & \\textbf{  Log-Likelihood:    }          &   -27022.   \\\\\n",
       "\\textbf{No. Observations:} &        8780      & \\textbf{  AIC:               }          & 5.406e+04   \\\\\n",
       "\\textbf{Df Residuals:}     &        8772      & \\textbf{  BIC:               }          & 5.412e+04   \\\\\n",
       "\\textbf{Df Model:}         &           8      & \\textbf{                     }          &             \\\\\n",
       "\\textbf{Covariance Type:}  &    nonrobust     & \\textbf{                     }          &             \\\\\n",
       "\\bottomrule\n",
       "\\end{tabular}\n",
       "\\begin{tabular}{lcccccc}\n",
       "                       & \\textbf{coef} & \\textbf{std err} & \\textbf{t} & \\textbf{P$> |$t$|$} & \\textbf{[0.025} & \\textbf{0.975]}  \\\\\n",
       "\\midrule\n",
       "\\textbf{FOOD}          &       0.0896  &        0.011     &     8.517  &         0.000        &        0.069    &        0.110     \\\\\n",
       "\\textbf{HEALTH}        &      -0.0322  &        0.010     &    -3.276  &         0.001        &       -0.052    &       -0.013     \\\\\n",
       "\\textbf{ACTRENT}       &      -0.0283  &        0.003     &    -8.289  &         0.000        &       -0.035    &       -0.022     \\\\\n",
       "\\textbf{RENTVAL}       &      -0.0529  &        0.010     &    -5.307  &         0.000        &       -0.072    &       -0.033     \\\\\n",
       "\\textbf{COMMUNICATION} &       0.0565  &        0.012     &     4.657  &         0.000        &        0.033    &        0.080     \\\\\n",
       "\\textbf{NFOOD}         &       0.1825  &        0.018     &    10.015  &         0.000        &        0.147    &        0.218     \\\\\n",
       "\\textbf{TOTDIS}        &       0.8882  &        0.017     &    52.010  &         0.000        &        0.855    &        0.922     \\\\\n",
       "\\textbf{OTHREC}        &      -0.1348  &        0.005     &   -27.263  &         0.000        &       -0.145    &       -0.125     \\\\\n",
       "\\bottomrule\n",
       "\\end{tabular}\n",
       "\\begin{tabular}{lclc}\n",
       "\\textbf{Omnibus:}       & 1449.380 & \\textbf{  Durbin-Watson:     } &    1.618  \\\\\n",
       "\\textbf{Prob(Omnibus):} &   0.000  & \\textbf{  Jarque-Bera (JB):  } & 3482.136  \\\\\n",
       "\\textbf{Skew:}          &   0.935  & \\textbf{  Prob(JB):          } &     0.00  \\\\\n",
       "\\textbf{Kurtosis:}      &   5.454  & \\textbf{  Cond. No.          } &     49.7  \\\\\n",
       "\\bottomrule\n",
       "\\end{tabular}\n",
       "%\\caption{OLS Regression Results}\n",
       "\\end{center}\n",
       "\n",
       "Notes: \\newline\n",
       " [1] R² is computed without centering (uncentered) since the model does not contain a constant. \\newline\n",
       " [2] Standard Errors assume that the covariance matrix of the errors is correctly specified."
      ],
      "text/plain": [
       "<class 'statsmodels.iolib.summary.Summary'>\n",
       "\"\"\"\n",
       "                                 OLS Regression Results                                \n",
       "=======================================================================================\n",
       "Dep. Variable:                  TOINC   R-squared (uncentered):                   0.995\n",
       "Model:                            OLS   Adj. R-squared (uncentered):              0.995\n",
       "Method:                 Least Squares   F-statistic:                          2.134e+05\n",
       "Date:                Wed, 06 Dec 2023   Prob (F-statistic):                        0.00\n",
       "Time:                        14:47:53   Log-Likelihood:                         -27022.\n",
       "No. Observations:                8780   AIC:                                  5.406e+04\n",
       "Df Residuals:                    8772   BIC:                                  5.412e+04\n",
       "Df Model:                           8                                                  \n",
       "Covariance Type:            nonrobust                                                  \n",
       "=================================================================================\n",
       "                    coef    std err          t      P>|t|      [0.025      0.975]\n",
       "---------------------------------------------------------------------------------\n",
       "FOOD              0.0896      0.011      8.517      0.000       0.069       0.110\n",
       "HEALTH           -0.0322      0.010     -3.276      0.001      -0.052      -0.013\n",
       "ACTRENT          -0.0283      0.003     -8.289      0.000      -0.035      -0.022\n",
       "RENTVAL          -0.0529      0.010     -5.307      0.000      -0.072      -0.033\n",
       "COMMUNICATION     0.0565      0.012      4.657      0.000       0.033       0.080\n",
       "NFOOD             0.1825      0.018     10.015      0.000       0.147       0.218\n",
       "TOTDIS            0.8882      0.017     52.010      0.000       0.855       0.922\n",
       "OTHREC           -0.1348      0.005    -27.263      0.000      -0.145      -0.125\n",
       "==============================================================================\n",
       "Omnibus:                     1449.380   Durbin-Watson:                   1.618\n",
       "Prob(Omnibus):                  0.000   Jarque-Bera (JB):             3482.136\n",
       "Skew:                           0.935   Prob(JB):                         0.00\n",
       "Kurtosis:                       5.454   Cond. No.                         49.7\n",
       "==============================================================================\n",
       "\n",
       "Notes:\n",
       "[1] R² is computed without centering (uncentered) since the model does not contain a constant.\n",
       "[2] Standard Errors assume that the covariance matrix of the errors is correctly specified.\n",
       "\"\"\""
      ]
     },
     "execution_count": 70,
     "metadata": {},
     "output_type": "execute_result"
    }
   ],
   "source": [
    "# X_train = sm.add_constant(X_train)\n",
    "model_min_tf = sm.OLS(df_prov_min_y_, df_prov_min_X_).fit()\n",
    "model_min_tf.summary()"
   ]
  },
  {
   "cell_type": "markdown",
   "id": "3b89d0ce-7365-491d-ad2f-1db616272b2f",
   "metadata": {},
   "source": [
    "After excluding multicollinear independent variables via conducting lasso regressione and conducting transformation on the values, the R-squared is <b>0.995</b>, a value equal to the Adjusted R-squared, suggesting successful removal of multicollinear independent variables.\n",
    "\n",
    "Furthermore, only <b>8 independent variables</b> can explain 99.5% of the variability in income."
   ]
  },
  {
   "cell_type": "markdown",
   "id": "b3b04c5f-d6d2-4a69-9936-e7654803e217",
   "metadata": {},
   "source": [
    "The produce points aligned closely along a diagonal line, indicating that the predicted values are close to the observed values. This also indicates great performance of linear model.\n",
    "\n",
    "In the theoretrical quantiles vs sample quantiles, the datapoints fit well with the theoretrical distribution."
   ]
  },
  {
   "cell_type": "code",
   "execution_count": 121,
   "id": "aedeb92c-6e4a-4a7d-a6dc-4d9b8f1f3fc5",
   "metadata": {
    "execution": {
     "iopub.execute_input": "2023-12-06T15:43:31.399432Z",
     "iopub.status.busy": "2023-12-06T15:43:31.398696Z",
     "iopub.status.idle": "2023-12-06T15:43:32.296247Z",
     "shell.execute_reply": "2023-12-06T15:43:32.295445Z",
     "shell.execute_reply.started": "2023-12-06T15:43:31.399368Z"
    },
    "tags": []
   },
   "outputs": [
    {
     "data": {
      "image/png": "[encoded data removed]",
      "text/plain": [
       "<Figure size 640x480 with 1 Axes>"
      ]
     },
     "metadata": {},
     "output_type": "display_data"
    },
    {
     "data": {
      "image/png": "[encoded data removed]",
      "text/plain": [
       "<Figure size 640x480 with 1 Axes>"
      ]
     },
     "metadata": {},
     "output_type": "display_data"
    },
    {
     "data": {
      "image/png": "[encoded data removed]",
      "text/plain": [
       "<Figure size 640x480 with 1 Axes>"
      ]
     },
     "metadata": {},
     "output_type": "display_data"
    }
   ],
   "source": [
    "plt.scatter(model_min_tf.fittedvalues, model_min_tf.resid)\n",
    "plt.xlabel('Fitted Values')\n",
    "plt.ylabel('Residuals')\n",
    "plt.title(f'Figure 8. Residuals vs Fitted Values for Province {data_difference_income.idxmin()}')\n",
    "plt.show()\n",
    "\n",
    "plt.scatter(model_min_tf.fittedvalues, df_prov_min_y_)\n",
    "plt.xlabel('Fitted Values')\n",
    "plt.ylabel('Observed')\n",
    "plt.title(f'Figure 9. Observed vs Fitted Values for Province {data_difference_income.idxmin()}')\n",
    "plt.show()\n",
    "\n",
    "sm.qqplot(model_min_tf.resid, line='r')\n",
    "plt.title(f'Figure 10. Normal Q-Q Plot for Province {data_difference_income.idxmin()}')\n",
    "plt.show()"
   ]
  },
  {
   "cell_type": "markdown",
   "id": "8b67dd6b-105a-4489-bd01-99c67c02bee4",
   "metadata": {},
   "source": [
    "<h3>Results</h3>"
   ]
  },
  {
   "cell_type": "markdown",
   "id": "d0568588-0809-41e9-bba8-05d32604039b",
   "metadata": {},
   "source": [
    "<b>For Province 9:</b>"
   ]
  },
  {
   "cell_type": "markdown",
   "id": "eba2aa75-d969-42c3-bbc8-574b41862a33",
   "metadata": {},
   "source": [
    "The OLS regression results indicate a very high R-squared value of 0.988, suggesting that approximately 98.8% of the variability in the dependent variable, which could be income for 2021, is explained by the independent variables included in the model. This high R-squared value often implies a strong fit of the model to the observed data.\n",
    "\n",
    "The F-statistic is significant, with a p-value close to 0.00, indicating that we can reject the null hypothesis that all of the regression coefficients are equal to zero. This suggests that as a whole, There is a significant correlation between the income for 2021 versus independent variables such as <b>Food, Other Expenditure, Non-Food Expenditure, Total Disbursements, and Other Receipts</b> for the province with the max income difference.\n",
    "\n",
    "Looking at the individual coefficients, all of them except have p-values less than 0.05, indicating that these variables are statistically significant at the 5% significance level. Specifically:\n",
    "\n",
    "The variable 'FOOD' has a coefficient of 0.2876, which is significant, implying that there is a positive correlation between food expenditure and income.\n",
    "'OTHER_EXPENDITURE' also has a positive and significant coefficient, indicating a positive relationship with income.\n",
    "'NFOOD' has the highest coefficient among the variables at 0.5376, suggesting a strong positive relationship with income.\n",
    "'TOTDIS' shows a positive correlation with income, but with a less strong coefficient than 'NFOOD'.\n",
    "'OTHREC', however, has a negative coefficient and is significant, indicating an inverse relationship with income.\n",
    "Given these results, we can reject the null hypothesis and accept the alternative hypothesis that there is a significant correlation between the income for 2021 and other features such as family size, expenditure types, etc., for the province with the maximum income difference.\n",
    "\n",
    "The Durbin-Watson statistic of 1.7567 is close to 2, which suggests that there is no significant autocorrelation in the residuals. The JB test for normality indicates that the residuals are not normally distributed, given the significant p-value; this could be due to the large sample size which can often lead to rejection of normality.\n",
    "\n",
    "Overall, the model have a strong explanatory power for the relationship between income and the selected independent variables in Province 9, but caution should be exercised due to potential issues with normality, which could affect the validity of the model's assumptions."
   ]
  },
  {
   "cell_type": "markdown",
   "id": "2b1466b5-413c-4abb-83fe-e548c598a7be",
   "metadata": {},
   "source": [
    "<b>For Province 76:</b>"
   ]
  },
  {
   "cell_type": "markdown",
   "id": "b70d63b8-6fce-4d63-8bff-0c559b54a5cd",
   "metadata": {},
   "source": [
    "Based on the second set of OLS regression results for Province 76, we can draw the following conclusions:\n",
    "\n",
    "The adjusted R-squared value is 0.0995, which means that approximately 9.95% of the variance in the dependent variable is explained by the model. This is a much lower explanatory power compared to the previous model for Province 9.\n",
    "\n",
    "The F-statistic is significant (p < 0.05), indicating that the model is statistically significant and that we can reject the null hypothesis that all of the coefficients are zero at the population level. This suggests that there is at least some correlation between the income for 2021 and the included explanatory variables.\n",
    "\n",
    "Looking at the individual predictors:\n",
    "\n",
    "\"FOOD\" has a positive coefficient and is statistically significant, indicating that there is a positive relationship between food expenditure and the dependent variable.\n",
    "\"HEALTH\" and \"ACTRENT\" (possibly active rent or actual rent) have negative coefficients and are statistically significant, suggesting a negative relationship with the dependent variable.\n",
    "\"RENTVAL\" also has a negative and significant coefficient, further indicating a negative relationship with the dependent variable.\n",
    "\"COMMUNICATION\" has a positive and significant coefficient, implying a positive relationship.\n",
    "\"NFOOD\" is not significant, indicating no clear relationship with the dependent variable at the 5% significance level.\n",
    "\"TOTDIS\" has the highest positive coefficient and is significant, indicating a strong positive relationship with the dependent variable, just like in the previous model.\n",
    "\"OTHREC\" has a negative and significant coefficient, suggesting an inverse relationship with the dependent variable.\n",
    "The Durbin-Watson statistic of 1.618 is close to 2, which indicates that there is no serious autocorrelation issue in the residuals.\n",
    "\n",
    "The Jarque-Bera test has a significant p-value, which indicates that the residuals do not follow a normal distribution. This, combined with the high kurtosis value, suggests that there may be outliers or other anomalies in the data that could be influencing the results.\n",
    "\n",
    "Given these results, the alternative hypothesis that there is a significant correlation between the income for 2021 and other features such as family size, expenditure types, etc., for the province with the minimum income difference, is supported, although the effect sizes are relatively small compared to those in Province 9. The results should be interpreted with caution due to the potential issues with the distribution of residuals, which could affect the robustness of the regression coefficients."
   ]
  },
  {
   "cell_type": "markdown",
   "id": "d89bd083-12e1-4224-aaa2-f7dd3d4f573c",
   "metadata": {
    "execution": {
     "iopub.execute_input": "2023-12-05T15:16:30.529845Z",
     "iopub.status.busy": "2023-12-05T15:16:30.529138Z",
     "iopub.status.idle": "2023-12-05T15:16:30.540045Z",
     "shell.execute_reply": "2023-12-05T15:16:30.537691Z",
     "shell.execute_reply.started": "2023-12-05T15:16:30.529786Z"
    },
    "tags": []
   },
   "source": [
    "<h2>3. Is the income of province with the highest income difference between 2018 and 2021 similar with other provinces belonging to the same region?</h2>"
   ]
  },
  {
   "cell_type": "markdown",
   "id": "14168c27-5e86-4858-8316-e777f7fcf20e",
   "metadata": {},
   "source": [
    "<h3>EDA</h3>"
   ]
  },
  {
   "cell_type": "code",
   "execution_count": 123,
   "id": "90b9c37b-8f8a-4550-9f5e-a9e6bb69cf4f",
   "metadata": {
    "execution": {
     "iopub.execute_input": "2023-12-06T15:43:51.530903Z",
     "iopub.status.busy": "2023-12-06T15:43:51.529878Z",
     "iopub.status.idle": "2023-12-06T15:43:51.570501Z",
     "shell.execute_reply": "2023-12-06T15:43:51.569020Z",
     "shell.execute_reply.started": "2023-12-06T15:43:51.530812Z"
    },
    "tags": []
   },
   "outputs": [],
   "source": [
    "unique_rows = df_fies2021[['W_REGN', 'W_PROV']].drop_duplicates()\n",
    "h3_df = data_difference_income.reset_index().merge(unique_rows, left_on='W_PROV', right_on='W_PROV')\n",
    "h3_inc_df = data_2021_toinc.reset_index().reset_index().merge(h3_df, left_on='W_PROV', right_on='W_PROV')\n",
    "h3_inc_df.columns = ['index', 'W_PROV', 'mean_inc', 'mean_inc_diff', 'W_REGN']\n",
    "\n",
    "min_reg = h3_inc_df[h3_inc_df['W_REGN'] == h3_inc_df.loc[h3_inc_df['mean_inc_diff'].idxmin()]['W_REGN']][['W_PROV','mean_inc']]"
   ]
  },
  {
   "cell_type": "markdown",
   "id": "12a4ca37-84ae-4a1a-9e74-a83b2af0000d",
   "metadata": {},
   "source": [
    "To conduct the EDA, the incomes of the other provinces belonging to the same region as province 76 was identified and plotted alongside each other to identify for potential for patterns.\n",
    "\n",
    "As shown below in <b>Figure 11. Mean Income 2021 for Region with Province 76</b>, there is a potential for the provinces within the same region to be similar with each other in terms of income."
   ]
  },
  {
   "cell_type": "code",
   "execution_count": 124,
   "id": "ae8dff90-8904-437d-8310-d260a445dc5b",
   "metadata": {
    "execution": {
     "iopub.execute_input": "2023-12-06T15:43:52.166083Z",
     "iopub.status.busy": "2023-12-06T15:43:52.165349Z",
     "iopub.status.idle": "2023-12-06T15:43:52.385379Z",
     "shell.execute_reply": "2023-12-06T15:43:52.384498Z",
     "shell.execute_reply.started": "2023-12-06T15:43:52.166021Z"
    },
    "tags": []
   },
   "outputs": [
    {
     "data": {
      "image/png": "[encoded data removed]",
      "text/plain": [
       "<Figure size 1000x600 with 1 Axes>"
      ]
     },
     "metadata": {},
     "output_type": "display_data"
    }
   ],
   "source": [
    "colors = ['maroon' if x == 76 else 'navy' for x in min_reg['W_PROV']]\n",
    "ax = min_reg.plot(x='W_PROV', y='mean_inc', kind='bar', figsize=(10, 6), color=colors)\n",
    "plt.title(f'Figure 11. Mean Income 2021 for Region with Province {data_difference_income.idxmin()}')\n",
    "plt.xlabel('Province Code')\n",
    "plt.ylabel('Mean Income')\n",
    "\n",
    "plt.show()"
   ]
  },
  {
   "cell_type": "markdown",
   "id": "c0441469-1951-4c87-86b8-525a64a808aa",
   "metadata": {},
   "source": [
    "<h3>Objective</h3>"
   ]
  },
  {
   "cell_type": "markdown",
   "id": "56f32bdb-1623-4727-abce-829f433a360d",
   "metadata": {},
   "source": [
    "The aim is to compare 2021 income levels between provinces with the lowest income changes since 2018 versus their regional counterparts, to identify economic similarities or disparities within the region. This analysis will help to potentially apply policies not only for the province, but across other provinces sharing the same region."
   ]
  },
  {
   "cell_type": "markdown",
   "id": "d7931fc3-b085-4a10-a2c6-ffee1777c39e",
   "metadata": {},
   "source": [
    "<h3>Null and Alternative Hypothesis</h3>"
   ]
  },
  {
   "cell_type": "markdown",
   "id": "499e03d7-e6fe-41e6-b02f-4428679a259e",
   "metadata": {},
   "source": [
    "<b>For Province 76:</b>\n",
    "* Null Hypothesis: The 2021 income of the province with the min income difference is the same as the other provinces within the same region.\n",
    "* Alterrnative Hypothesis: The 2021 income of the province with the min income difference is not the same as the other provinces within the same region."
   ]
  },
  {
   "cell_type": "markdown",
   "id": "02caf4b7-e2d9-44a4-bc74-f28e09021eaf",
   "metadata": {
    "execution": {
     "iopub.execute_input": "2023-12-05T15:15:40.177087Z",
     "iopub.status.busy": "2023-12-05T15:15:40.176317Z",
     "iopub.status.idle": "2023-12-05T15:15:40.187249Z",
     "shell.execute_reply": "2023-12-05T15:15:40.184881Z",
     "shell.execute_reply.started": "2023-12-05T15:15:40.177026Z"
    },
    "tags": []
   },
   "source": [
    "<h3>Hypothesis Testing</h3>"
   ]
  },
  {
   "cell_type": "code",
   "execution_count": 32,
   "id": "39cf1564-a561-4943-a016-f4fa689aad01",
   "metadata": {
    "execution": {
     "iopub.execute_input": "2023-12-06T09:24:29.147992Z",
     "iopub.status.busy": "2023-12-06T09:24:29.147236Z",
     "iopub.status.idle": "2023-12-06T09:24:29.161511Z",
     "shell.execute_reply": "2023-12-06T09:24:29.159658Z",
     "shell.execute_reply.started": "2023-12-06T09:24:29.147927Z"
    },
    "tags": []
   },
   "outputs": [],
   "source": [
    "def conduct_anova(df, province_lowest, alpha=0.05):\n",
    "    region_lowest = int(df[df['W_PROV'] == province_lowest]['W_REGN'].unique())\n",
    "    lowest_income_region_data = df[df['W_REGN'] == region_lowest]\n",
    "    grouped_data = lowest_income_region_data.groupby('W_PROV')['TOINC'].apply(list)\n",
    "\n",
    "    f_statistic, p_value = f_oneway(*grouped_data)\n",
    "    \n",
    "    print('ANOVA')\n",
    "    print(f\"F-statistic: {f_statistic}\")\n",
    "    print(f\"P-value: {p_value}\")\n",
    "\n",
    "    if p_value < alpha:\n",
    "        print(\"Reject the null hypothesis, the alternative must be true.\") \n",
    "    else:\n",
    "        print(\"Fail to reject the null hypothesis.\")"
   ]
  },
  {
   "cell_type": "markdown",
   "id": "ab5af0ef-795f-43e0-9a8d-b3c0643ed4cd",
   "metadata": {},
   "source": [
    "An <b>ANOVA test</b> was conducted for hypothesis testing, with a significance of 0.05, focusing on the province with minimum income difference. The variances of the income means between other provinces belonging to the same region as the specified province were tested for their similarity with one another."
   ]
  },
  {
   "cell_type": "code",
   "execution_count": 33,
   "id": "cf8db235-e98f-4977-8062-28c13b60c362",
   "metadata": {
    "execution": {
     "iopub.execute_input": "2023-12-06T09:24:33.000712Z",
     "iopub.status.busy": "2023-12-06T09:24:32.999952Z",
     "iopub.status.idle": "2023-12-06T09:24:33.049478Z",
     "shell.execute_reply": "2023-12-06T09:24:33.048432Z",
     "shell.execute_reply.started": "2023-12-06T09:24:33.000649Z"
    },
    "tags": []
   },
   "outputs": [
    {
     "name": "stdout",
     "output_type": "stream",
     "text": [
      "ANOVA\n",
      "F-statistic: 124.11280862729926\n",
      "P-value: 1.0445083281219861e-79\n",
      "Reject the null hypothesis, the alternative must be true.\n"
     ]
    }
   ],
   "source": [
    "province_lowest = data_difference_income.idxmin()\n",
    "conduct_anova(df_fies2021, province_lowest)"
   ]
  },
  {
   "cell_type": "markdown",
   "id": "3e2524e4-7259-4335-ba2b-6b89cfa24fcc",
   "metadata": {},
   "source": [
    "<h3>Results</h3>"
   ]
  },
  {
   "cell_type": "markdown",
   "id": "b727c6d3-e840-4c48-9146-b258c88a67b1",
   "metadata": {},
   "source": [
    "Based on the results of the hypothesis testing, we can say that <b>there is a significant difference between the income of the provinces belonging to the same region as that of Province 76.</b>"
   ]
  },
  {
   "cell_type": "markdown",
   "id": "97622a94-f477-40c4-aad8-98664fe82218",
   "metadata": {
    "execution": {
     "iopub.execute_input": "2023-12-06T15:48:03.195811Z",
     "iopub.status.busy": "2023-12-06T15:48:03.195059Z",
     "iopub.status.idle": "2023-12-06T15:48:03.207885Z",
     "shell.execute_reply": "2023-12-06T15:48:03.205260Z",
     "shell.execute_reply.started": "2023-12-06T15:48:03.195749Z"
    },
    "tags": []
   },
   "source": [
    "<div style='display: flex; justify-content: space-between; align-items: center; padding: 10px; width: 100%; background-color: #F5F5DC'>\n",
    "    <h1>CONCLUSION AND RECOMMENDATIONS</h1>\n",
    "    <img src='png.png' style='height: 50px; width: auto; margin-left: auto; padding: 10px'>\n",
    "</div>"
   ]
  },
  {
   "cell_type": "markdown",
   "id": "cf33c60d-cf72-4972-8e40-526d8c01be94",
   "metadata": {},
   "source": [
    "Given the stronger explanatory power of the model for Province 9, a potential recommendation to help Province 76 could involve focusing on the variables that were significant and had a positive correlation with income in Province 9. If these factors are actionable and can be influenced by policy or other interventions, they could be areas to target for improvement in Province 76.\n",
    "\n",
    "<b>Food Expenditure:</b> Since food expenditure is positively correlated with income in both provinces, efforts to increase food-related economic activity, such as agricultural productivity or food markets, might have a beneficial effect on incomes.\n",
    "\n",
    "<b>Communication Expenditure:</b> With a positive correlation in Province 76, investing in communication infrastructure could improve economic outcomes, as seen in Province 9.\n",
    "\n",
    "<b>Total Discounts (TOTDIS):</b> This refers to some form of economic incentive or discount, Province 76 could analyze the specific policies in Province 9 that lead to such incentives and their relation to higher incomes.\n",
    "\n",
    "A thorough analysis should be conducted to understand the context and causality behind these correlations, as direct benchmarking between provinces requires careful consideration of their unique economic, cultural, and social environments. The goal would be to adapt successful strategies from Province 9 to the specific context of Province 76, rather than applying them wholesale, to ensure they are effective and sustainable."
   ]
  },
  {
   "cell_type": "markdown",
   "id": "859f4ceb-0945-49d8-b0e9-ae7698f363c4",
   "metadata": {},
   "source": [
    "<div style='display: flex; justify-content: space-between; align-items: center; padding: 10px; width: 100%; background-color: #F5F5DC'>\n",
    "    <h1>REFERENCES</h1>\n",
    "    <img src='png.png' style='height: 50px; width: auto; margin-left: auto; padding: 10px'>\n",
    "</div>"
   ]
  },
  {
   "cell_type": "markdown",
   "id": "6fc95b1b-270b-4957-9938-9a9c4e51b415",
   "metadata": {},
   "source": [
    "Family Income and Expenditure Survey | Philippine Statistics Authority | Republic of the Philippines. (2023, July 10). https://psa.gov.ph/statistics/income-expenditure/fies"
   ]
  }
 ],
 "metadata": {
  "kernelspec": {
   "display_name": "Python 3 (ipykernel)",
   "language": "python",
   "name": "python3"
  },
  "language_info": {
   "codemirror_mode": {
    "name": "ipython",
    "version": 3
   },
   "file_extension": ".py",
   "mimetype": "text/x-python",
   "name": "python",
   "nbconvert_exporter": "python",
   "pygments_lexer": "ipython3",
   "version": "3.10.12"
  }
 },
 "nbformat": 4,
 "nbformat_minor": 5
}
